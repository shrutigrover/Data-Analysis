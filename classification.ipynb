{
 "cells": [
  {
   "cell_type": "markdown",
   "metadata": {},
   "source": [
    "### Data set A\n",
    "Bank Additional dataset that classifies whether client subscribed to the term deposit or not\n",
    "\n",
    "### Preprocessing Steps:\n",
    "- There were few 'unknown' values which were replaced by mode. The reason we did not replace by mean is because there are 'unknown' values in categorical data as well, which cannot be replaced with the mean. Therefore, mode is the best choice for replacing unknown values for this dataset.\n",
    "- There are few outliers in the data. We have removed the outliers and replaced with mean to check which type of imputation helped with giving better modeol performance. Removing outliers improved the accuracy of the classifiers.\n",
    "- We used z-score as a standardization step to convert the data to same scale.\n",
    "- We have also replaced the categorical values with numerical values as explained below."
   ]
  },
  {
   "cell_type": "code",
   "execution_count": 2,
   "metadata": {
    "scrolled": true
   },
   "outputs": [
    {
     "name": "stdout",
     "output_type": "stream",
     "text": [
      "    age            job   marital            education  default  housing  \\\n",
      "0    30    blue-collar   married             basic.9y       no      yes   \n",
      "1    39       services    single          high.school       no       no   \n",
      "2    25       services   married          high.school       no      yes   \n",
      "3    38       services   married             basic.9y       no  unknown   \n",
      "4    47         admin.   married    university.degree       no      yes   \n",
      "5    32       services    single    university.degree       no       no   \n",
      "6    32         admin.    single    university.degree       no      yes   \n",
      "7    41   entrepreneur   married    university.degree  unknown      yes   \n",
      "8    31       services  divorced  professional.course       no       no   \n",
      "9    35    blue-collar   married             basic.9y  unknown       no   \n",
      "10   25       services    single             basic.6y  unknown      yes   \n",
      "11   36  self-employed    single             basic.4y       no       no   \n",
      "12   36         admin.   married          high.school       no       no   \n",
      "13   47    blue-collar   married             basic.4y       no      yes   \n",
      "14   29         admin.    single          high.school       no       no   \n",
      "15   27       services    single    university.degree       no       no   \n",
      "16   44         admin.  divorced    university.degree       no       no   \n",
      "17   46         admin.  divorced    university.degree       no      yes   \n",
      "18   45   entrepreneur   married    university.degree  unknown      yes   \n",
      "19   50    blue-collar   married             basic.4y       no       no   \n",
      "\n",
      "       loan    contact month day_of_week ...   campaign  pdays  previous  \\\n",
      "0        no   cellular   may         fri ...          2    999         0   \n",
      "1        no  telephone   may         fri ...          4    999         0   \n",
      "2        no  telephone   jun         wed ...          1    999         0   \n",
      "3   unknown  telephone   jun         fri ...          3    999         0   \n",
      "4        no   cellular   nov         mon ...          1    999         0   \n",
      "5        no   cellular   sep         thu ...          3    999         2   \n",
      "6        no   cellular   sep         mon ...          4    999         0   \n",
      "7        no   cellular   nov         mon ...          2    999         0   \n",
      "8        no   cellular   nov         tue ...          1    999         1   \n",
      "9        no  telephone   may         thu ...          1    999         0   \n",
      "10       no   cellular   jul         thu ...          1    999         0   \n",
      "11       no   cellular   jul         thu ...          1    999         0   \n",
      "12       no  telephone   may         wed ...          2    999         0   \n",
      "13       no  telephone   jun         thu ...          2    999         0   \n",
      "14       no   cellular   may         fri ...          2    999         0   \n",
      "15       no   cellular   jul         wed ...          2    999         0   \n",
      "16       no   cellular   jul         wed ...          6    999         0   \n",
      "17       no  telephone   jul         mon ...          4    999         0   \n",
      "18      yes   cellular   aug         mon ...          2    999         0   \n",
      "19      yes   cellular   jul         tue ...          1    999         0   \n",
      "\n",
      "       poutcome emp.var.rate  cons.price.idx  cons.conf.idx  euribor3m  \\\n",
      "0   nonexistent         -1.8          92.893          -46.2      1.313   \n",
      "1   nonexistent          1.1          93.994          -36.4      4.855   \n",
      "2   nonexistent          1.4          94.465          -41.8      4.962   \n",
      "3   nonexistent          1.4          94.465          -41.8      4.959   \n",
      "4   nonexistent         -0.1          93.200          -42.0      4.191   \n",
      "5       failure         -1.1          94.199          -37.5      0.884   \n",
      "6   nonexistent         -1.1          94.199          -37.5      0.879   \n",
      "7   nonexistent         -0.1          93.200          -42.0      4.191   \n",
      "8       failure         -0.1          93.200          -42.0      4.153   \n",
      "9   nonexistent          1.1          93.994          -36.4      4.855   \n",
      "10  nonexistent          1.4          93.918          -42.7      4.958   \n",
      "11  nonexistent          1.4          93.918          -42.7      4.968   \n",
      "12  nonexistent          1.1          93.994          -36.4      4.859   \n",
      "13  nonexistent          1.4          94.465          -41.8      4.958   \n",
      "14  nonexistent         -1.8          92.893          -46.2      1.313   \n",
      "15  nonexistent          1.4          93.918          -42.7      4.963   \n",
      "16  nonexistent          1.4          93.918          -42.7      4.957   \n",
      "17  nonexistent          1.4          93.918          -42.7      4.962   \n",
      "18  nonexistent          1.4          93.444          -36.1      4.965   \n",
      "19  nonexistent          1.4          93.918          -42.7      4.961   \n",
      "\n",
      "    nr.employed    y  \n",
      "0        5099.1   no  \n",
      "1        5191.0   no  \n",
      "2        5228.1   no  \n",
      "3        5228.1   no  \n",
      "4        5195.8   no  \n",
      "5        4963.6   no  \n",
      "6        4963.6   no  \n",
      "7        5195.8   no  \n",
      "8        5195.8   no  \n",
      "9        5191.0   no  \n",
      "10       5228.1   no  \n",
      "11       5228.1   no  \n",
      "12       5191.0   no  \n",
      "13       5228.1   no  \n",
      "14       5099.1   no  \n",
      "15       5228.1   no  \n",
      "16       5228.1   no  \n",
      "17       5228.1   no  \n",
      "18       5228.1   no  \n",
      "19       5228.1  yes  \n",
      "\n",
      "[20 rows x 21 columns]\n",
      "(4119, 21)\n",
      "age                 0\n",
      "job                39\n",
      "marital            11\n",
      "education         167\n",
      "default           803\n",
      "housing           105\n",
      "loan              105\n",
      "contact             0\n",
      "month               0\n",
      "day_of_week         0\n",
      "duration            0\n",
      "campaign            0\n",
      "pdays               0\n",
      "previous            0\n",
      "poutcome            0\n",
      "emp.var.rate        0\n",
      "cons.price.idx      0\n",
      "cons.conf.idx       0\n",
      "euribor3m           0\n",
      "nr.employed         0\n",
      "y                   0\n",
      "dtype: int64\n",
      "    age            job   marital            education default housing loan  \\\n",
      "0    30    blue-collar   married             basic.9y      no     yes   no   \n",
      "1    39       services    single          high.school      no      no   no   \n",
      "2    25       services   married          high.school      no     yes   no   \n",
      "3    38       services   married             basic.9y      no     yes   no   \n",
      "4    47         admin.   married    university.degree      no     yes   no   \n",
      "5    32       services    single    university.degree      no      no   no   \n",
      "6    32         admin.    single    university.degree      no     yes   no   \n",
      "7    41   entrepreneur   married    university.degree      no     yes   no   \n",
      "8    31       services  divorced  professional.course      no      no   no   \n",
      "9    35    blue-collar   married             basic.9y      no      no   no   \n",
      "10   25       services    single             basic.6y      no     yes   no   \n",
      "11   36  self-employed    single             basic.4y      no      no   no   \n",
      "12   36         admin.   married          high.school      no      no   no   \n",
      "13   47    blue-collar   married             basic.4y      no     yes   no   \n",
      "14   29         admin.    single          high.school      no      no   no   \n",
      "15   27       services    single    university.degree      no      no   no   \n",
      "16   44         admin.  divorced    university.degree      no      no   no   \n",
      "17   46         admin.  divorced    university.degree      no     yes   no   \n",
      "18   45   entrepreneur   married    university.degree      no     yes  yes   \n",
      "19   50    blue-collar   married             basic.4y      no      no  yes   \n",
      "\n",
      "      contact month day_of_week ...   campaign  pdays  previous     poutcome  \\\n",
      "0    cellular   may         fri ...          2    999         0  nonexistent   \n",
      "1   telephone   may         fri ...          4    999         0  nonexistent   \n",
      "2   telephone   jun         wed ...          1    999         0  nonexistent   \n",
      "3   telephone   jun         fri ...          3    999         0  nonexistent   \n",
      "4    cellular   nov         mon ...          1    999         0  nonexistent   \n",
      "5    cellular   sep         thu ...          3    999         2      failure   \n",
      "6    cellular   sep         mon ...          4    999         0  nonexistent   \n",
      "7    cellular   nov         mon ...          2    999         0  nonexistent   \n",
      "8    cellular   nov         tue ...          1    999         1      failure   \n",
      "9   telephone   may         thu ...          1    999         0  nonexistent   \n",
      "10   cellular   jul         thu ...          1    999         0  nonexistent   \n",
      "11   cellular   jul         thu ...          1    999         0  nonexistent   \n",
      "12  telephone   may         wed ...          2    999         0  nonexistent   \n",
      "13  telephone   jun         thu ...          2    999         0  nonexistent   \n",
      "14   cellular   may         fri ...          2    999         0  nonexistent   \n",
      "15   cellular   jul         wed ...          2    999         0  nonexistent   \n",
      "16   cellular   jul         wed ...          6    999         0  nonexistent   \n",
      "17  telephone   jul         mon ...          4    999         0  nonexistent   \n",
      "18   cellular   aug         mon ...          2    999         0  nonexistent   \n",
      "19   cellular   jul         tue ...          1    999         0  nonexistent   \n",
      "\n",
      "   emp.var.rate  cons.price.idx  cons.conf.idx  euribor3m  nr.employed    y  \n",
      "0          -1.8          92.893          -46.2      1.313       5099.1   no  \n",
      "1           1.1          93.994          -36.4      4.855       5191.0   no  \n",
      "2           1.4          94.465          -41.8      4.962       5228.1   no  \n",
      "3           1.4          94.465          -41.8      4.959       5228.1   no  \n",
      "4          -0.1          93.200          -42.0      4.191       5195.8   no  \n",
      "5          -1.1          94.199          -37.5      0.884       4963.6   no  \n",
      "6          -1.1          94.199          -37.5      0.879       4963.6   no  \n",
      "7          -0.1          93.200          -42.0      4.191       5195.8   no  \n",
      "8          -0.1          93.200          -42.0      4.153       5195.8   no  \n",
      "9           1.1          93.994          -36.4      4.855       5191.0   no  \n",
      "10          1.4          93.918          -42.7      4.958       5228.1   no  \n",
      "11          1.4          93.918          -42.7      4.968       5228.1   no  \n",
      "12          1.1          93.994          -36.4      4.859       5191.0   no  \n",
      "13          1.4          94.465          -41.8      4.958       5228.1   no  \n",
      "14         -1.8          92.893          -46.2      1.313       5099.1   no  \n",
      "15          1.4          93.918          -42.7      4.963       5228.1   no  \n",
      "16          1.4          93.918          -42.7      4.957       5228.1   no  \n",
      "17          1.4          93.918          -42.7      4.962       5228.1   no  \n",
      "18          1.4          93.444          -36.1      4.965       5228.1   no  \n",
      "19          1.4          93.918          -42.7      4.961       5228.1  yes  \n",
      "\n",
      "[20 rows x 21 columns]\n"
     ]
    }
   ],
   "source": [
    "import pandas as pd\n",
    "import math\n",
    "from sklearn import preprocessing as pp\n",
    "import numpy as np\n",
    "import scipy.stats as stat\n",
    "import matplotlib.pyplot as plt\n",
    "from sklearn.neighbors import KNeighborsClassifier\n",
    "from sklearn.ensemble import RandomForestClassifier\n",
    "from sklearn.model_selection import train_test_split\n",
    "from sklearn.neural_network import MLPClassifier\n",
    "#installed imblearn package\n",
    "import imblearn.under_sampling as us\n",
    "import imblearn.over_sampling as os\n",
    "from sklearn.metrics import classification_report,accuracy_score\n",
    "bank_data=pd.read_csv(\"data/bank-additional.csv\",sep=\";\")\n",
    "bank_data_cast=bank_data.copy()\n",
    "#changing datatype from 'object' to 'category' to label the categorical data\n",
    "for i in bank_data_cast.select_dtypes(include=['object']).columns:\n",
    "    bank_data_cast[i]=bank_data_cast[i].astype('category')\n",
    "#print(bank_data_cast.head(20))\n",
    "#print(bank_data_cast.shape)\n",
    "bank_data_cast.replace('unknown', np.nan, inplace= True)\n",
    "#print(bank_data_cast.isnull().sum())\n",
    "#Preprocessing data having 'Unknown' values to mode\n",
    "bank_data_cast['default'].fillna(bank_data_cast['default'].mode()[0], inplace=True)\n",
    "bank_data_cast['housing'].fillna(bank_data_cast['housing'].mode()[0], inplace=True)\n",
    "bank_data_cast['loan'].fillna(bank_data_cast['loan'].mode()[0], inplace=True)\n",
    "bank_data_cast['job'].fillna(bank_data_cast['job'].mode()[0], inplace=True)\n",
    "bank_data_cast['marital'].fillna(bank_data_cast['marital'].mode()[0], inplace=True)\n",
    "bank_data_cast['education'].fillna(bank_data_cast['education'].mode()[0], inplace=True)\n",
    "#print(bank_data_cast.head(20))\n",
    "bank_data_cast['age'].value_counts()\n",
    "oversampled_data = os.SMOTE(random_state=0)\n",
    "undersampled_data = us.ClusterCentroids(random_state=0)"
   ]
  },
  {
   "cell_type": "code",
   "execution_count": 6,
   "metadata": {},
   "outputs": [
    {
     "name": "stderr",
     "output_type": "stream",
     "text": [
      "C:\\Users\\jatin\\Anaconda3\\lib\\site-packages\\IPython\\core\\interactiveshell.py:3267: UserWarning: To output multiple subplots, the figure containing the passed axes is being cleared\n",
      "  exec(code_obj, self.user_global_ns, self.user_ns)\n"
     ]
    },
    {
     "data": {
      "text/plain": [
       "array([[<matplotlib.axes._subplots.AxesSubplot object at 0x000001CEB02CF550>,\n",
       "        <matplotlib.axes._subplots.AxesSubplot object at 0x000001CEB02877F0>,\n",
       "        <matplotlib.axes._subplots.AxesSubplot object at 0x000001CEB02AEA58>],\n",
       "       [<matplotlib.axes._subplots.AxesSubplot object at 0x000001CEB0565F98>,\n",
       "        <matplotlib.axes._subplots.AxesSubplot object at 0x000001CEB0593550>,\n",
       "        <matplotlib.axes._subplots.AxesSubplot object at 0x000001CEB05BAAC8>],\n",
       "       [<matplotlib.axes._subplots.AxesSubplot object at 0x000001CEB05E3550>,\n",
       "        <matplotlib.axes._subplots.AxesSubplot object at 0x000001CEB0609B00>,\n",
       "        <matplotlib.axes._subplots.AxesSubplot object at 0x000001CEB0609B38>],\n",
       "       [<matplotlib.axes._subplots.AxesSubplot object at 0x000001CEB06625F8>,\n",
       "        <matplotlib.axes._subplots.AxesSubplot object at 0x000001CEB0688B70>,\n",
       "        <matplotlib.axes._subplots.AxesSubplot object at 0x000001CEB06B8128>]],\n",
       "      dtype=object)"
      ]
     },
     "execution_count": 6,
     "metadata": {},
     "output_type": "execute_result"
    },
    {
     "data": {
      "image/png": "[encoded data removed]",
      "text/plain": [
       "<Figure size 1080x1440 with 12 Axes>"
      ]
     },
     "metadata": {
      "needs_background": "light"
     },
     "output_type": "display_data"
    }
   ],
   "source": [
    "# plot the data to see the distribution\n",
    "fig = plt.figure(figsize = (15,20))\n",
    "ax = fig.gca()\n",
    "bank_data_cast.hist(ax=ax)"
   ]
  },
  {
   "cell_type": "markdown",
   "metadata": {},
   "source": [
    "### Task1 Changing categorical data into numerical features \n",
    "- get_dummies method from the pandas library has been used for converting categorical data to numerical"
   ]
  },
  {
   "cell_type": "code",
   "execution_count": 7,
   "metadata": {
    "scrolled": true
   },
   "outputs": [
    {
     "data": {
      "text/html": [
       "<div>\n",
       "<style scoped>\n",
       "    .dataframe tbody tr th:only-of-type {\n",
       "        vertical-align: middle;\n",
       "    }\n",
       "\n",
       "    .dataframe tbody tr th {\n",
       "        vertical-align: top;\n",
       "    }\n",
       "\n",
       "    .dataframe thead th {\n",
       "        text-align: right;\n",
       "    }\n",
       "</style>\n",
       "<table border=\"1\" class=\"dataframe\">\n",
       "  <thead>\n",
       "    <tr style=\"text-align: right;\">\n",
       "      <th></th>\n",
       "      <th>age</th>\n",
       "      <th>duration</th>\n",
       "      <th>campaign</th>\n",
       "      <th>pdays</th>\n",
       "      <th>previous</th>\n",
       "      <th>emp.var.rate</th>\n",
       "      <th>cons.price.idx</th>\n",
       "      <th>cons.conf.idx</th>\n",
       "      <th>euribor3m</th>\n",
       "      <th>nr.employed</th>\n",
       "      <th>...</th>\n",
       "      <th>day_of_week_fri</th>\n",
       "      <th>day_of_week_mon</th>\n",
       "      <th>day_of_week_thu</th>\n",
       "      <th>day_of_week_tue</th>\n",
       "      <th>day_of_week_wed</th>\n",
       "      <th>poutcome_failure</th>\n",
       "      <th>poutcome_nonexistent</th>\n",
       "      <th>poutcome_success</th>\n",
       "      <th>y_no</th>\n",
       "      <th>y_yes</th>\n",
       "    </tr>\n",
       "  </thead>\n",
       "  <tbody>\n",
       "    <tr>\n",
       "      <th>0</th>\n",
       "      <td>30</td>\n",
       "      <td>487</td>\n",
       "      <td>2</td>\n",
       "      <td>999</td>\n",
       "      <td>0</td>\n",
       "      <td>-1.8</td>\n",
       "      <td>92.893</td>\n",
       "      <td>-46.2</td>\n",
       "      <td>1.313</td>\n",
       "      <td>5099.1</td>\n",
       "      <td>...</td>\n",
       "      <td>1</td>\n",
       "      <td>0</td>\n",
       "      <td>0</td>\n",
       "      <td>0</td>\n",
       "      <td>0</td>\n",
       "      <td>0</td>\n",
       "      <td>1</td>\n",
       "      <td>0</td>\n",
       "      <td>1</td>\n",
       "      <td>0</td>\n",
       "    </tr>\n",
       "    <tr>\n",
       "      <th>1</th>\n",
       "      <td>39</td>\n",
       "      <td>346</td>\n",
       "      <td>4</td>\n",
       "      <td>999</td>\n",
       "      <td>0</td>\n",
       "      <td>1.1</td>\n",
       "      <td>93.994</td>\n",
       "      <td>-36.4</td>\n",
       "      <td>4.855</td>\n",
       "      <td>5191.0</td>\n",
       "      <td>...</td>\n",
       "      <td>1</td>\n",
       "      <td>0</td>\n",
       "      <td>0</td>\n",
       "      <td>0</td>\n",
       "      <td>0</td>\n",
       "      <td>0</td>\n",
       "      <td>1</td>\n",
       "      <td>0</td>\n",
       "      <td>1</td>\n",
       "      <td>0</td>\n",
       "    </tr>\n",
       "    <tr>\n",
       "      <th>2</th>\n",
       "      <td>25</td>\n",
       "      <td>227</td>\n",
       "      <td>1</td>\n",
       "      <td>999</td>\n",
       "      <td>0</td>\n",
       "      <td>1.4</td>\n",
       "      <td>94.465</td>\n",
       "      <td>-41.8</td>\n",
       "      <td>4.962</td>\n",
       "      <td>5228.1</td>\n",
       "      <td>...</td>\n",
       "      <td>0</td>\n",
       "      <td>0</td>\n",
       "      <td>0</td>\n",
       "      <td>0</td>\n",
       "      <td>1</td>\n",
       "      <td>0</td>\n",
       "      <td>1</td>\n",
       "      <td>0</td>\n",
       "      <td>1</td>\n",
       "      <td>0</td>\n",
       "    </tr>\n",
       "    <tr>\n",
       "      <th>3</th>\n",
       "      <td>38</td>\n",
       "      <td>17</td>\n",
       "      <td>3</td>\n",
       "      <td>999</td>\n",
       "      <td>0</td>\n",
       "      <td>1.4</td>\n",
       "      <td>94.465</td>\n",
       "      <td>-41.8</td>\n",
       "      <td>4.959</td>\n",
       "      <td>5228.1</td>\n",
       "      <td>...</td>\n",
       "      <td>1</td>\n",
       "      <td>0</td>\n",
       "      <td>0</td>\n",
       "      <td>0</td>\n",
       "      <td>0</td>\n",
       "      <td>0</td>\n",
       "      <td>1</td>\n",
       "      <td>0</td>\n",
       "      <td>1</td>\n",
       "      <td>0</td>\n",
       "    </tr>\n",
       "    <tr>\n",
       "      <th>4</th>\n",
       "      <td>47</td>\n",
       "      <td>58</td>\n",
       "      <td>1</td>\n",
       "      <td>999</td>\n",
       "      <td>0</td>\n",
       "      <td>-0.1</td>\n",
       "      <td>93.200</td>\n",
       "      <td>-42.0</td>\n",
       "      <td>4.191</td>\n",
       "      <td>5195.8</td>\n",
       "      <td>...</td>\n",
       "      <td>0</td>\n",
       "      <td>1</td>\n",
       "      <td>0</td>\n",
       "      <td>0</td>\n",
       "      <td>0</td>\n",
       "      <td>0</td>\n",
       "      <td>1</td>\n",
       "      <td>0</td>\n",
       "      <td>1</td>\n",
       "      <td>0</td>\n",
       "    </tr>\n",
       "  </tbody>\n",
       "</table>\n",
       "<p>5 rows × 65 columns</p>\n",
       "</div>"
      ],
      "text/plain": [
       "   age  duration  campaign  pdays  previous  emp.var.rate  cons.price.idx  \\\n",
       "0   30       487         2    999         0          -1.8          92.893   \n",
       "1   39       346         4    999         0           1.1          93.994   \n",
       "2   25       227         1    999         0           1.4          94.465   \n",
       "3   38        17         3    999         0           1.4          94.465   \n",
       "4   47        58         1    999         0          -0.1          93.200   \n",
       "\n",
       "   cons.conf.idx  euribor3m  nr.employed  ...    day_of_week_fri  \\\n",
       "0          -46.2      1.313       5099.1  ...                  1   \n",
       "1          -36.4      4.855       5191.0  ...                  1   \n",
       "2          -41.8      4.962       5228.1  ...                  0   \n",
       "3          -41.8      4.959       5228.1  ...                  1   \n",
       "4          -42.0      4.191       5195.8  ...                  0   \n",
       "\n",
       "   day_of_week_mon  day_of_week_thu  day_of_week_tue  day_of_week_wed  \\\n",
       "0                0                0                0                0   \n",
       "1                0                0                0                0   \n",
       "2                0                0                0                1   \n",
       "3                0                0                0                0   \n",
       "4                1                0                0                0   \n",
       "\n",
       "   poutcome_failure  poutcome_nonexistent  poutcome_success  y_no  y_yes  \n",
       "0                 0                     1                 0     1      0  \n",
       "1                 0                     1                 0     1      0  \n",
       "2                 0                     1                 0     1      0  \n",
       "3                 0                     1                 0     1      0  \n",
       "4                 0                     1                 0     1      0  \n",
       "\n",
       "[5 rows x 65 columns]"
      ]
     },
     "execution_count": 7,
     "metadata": {},
     "output_type": "execute_result"
    }
   ],
   "source": [
    "data_dummies=pd.get_dummies(bank_data_cast)\n",
    "data_dummies.head(5)"
   ]
  },
  {
   "cell_type": "markdown",
   "metadata": {},
   "source": [
    "### Task 2. Data Split Ration and Justification\n",
    "We split data into training and testing data. Here, testing and training ratio is kept as 20:80. There is no particular rule for deciding the split ratio and it is a parameter that depends on the dataset. Therefore, for our dataset, we evaluated our models on different splits and found that classifiers have better performance for the chosen ratio of test-train split.\n",
    "**Justification**\n",
    "F1-scores on *default* models -\n",
    "1. **20:80 split ratio**\n",
    "  <br>Decision Tree - 89% , Random Forest - 91% , Neural Network - 93%\n",
    "2. 25:75 split ratio  \n",
    "  </n>Decision Tree - 88% , Random Forest - 91%, Neural Network - 90%\n",
    "3. 30:70 split ratio\n",
    "  <br>Decision Tree - 88% , Random Forest - 92% , Neural Network - 90%"
   ]
  },
  {
   "cell_type": "markdown",
   "metadata": {},
   "source": [
    "### Normalization and Outlier Detection"
   ]
  },
  {
   "cell_type": "code",
   "execution_count": 8,
   "metadata": {},
   "outputs": [
    {
     "name": "stdout",
     "output_type": "stream",
     "text": [
      "(3717, 59)\n"
     ]
    },
    {
     "name": "stderr",
     "output_type": "stream",
     "text": [
      "C:\\Users\\jatin\\Anaconda3\\lib\\site-packages\\scipy\\stats\\stats.py:2253: RuntimeWarning: invalid value encountered in true_divide\n",
      "  return (a - mns) / sstd\n"
     ]
    }
   ],
   "source": [
    "#zscore normalisation\n",
    "data_dummies_z = pd.DataFrame(stat.zscore(data_dummies),columns=data_dummies.columns)\n",
    "data_dummies_z = data_dummies_z.drop(['job_unknown','marital_unknown','education_unknown','default_unknown','housing_unknown','loan_unknown',],axis=1)\n",
    "data_dummies_z.iloc[:,-1] = data_dummies.iloc[:,-1]\n",
    "\n",
    "#remove outliers\n",
    "df = data_dummies_z.iloc[:,:10]\n",
    "z = stat.zscore(df)\n",
    "z = pd.DataFrame(z, columns=df.columns)\n",
    "for col in z.columns:\n",
    "    z = z.loc[z[col] < 3]\n",
    "    z = z.loc[z[col] > -3]\n",
    "\n",
    "index_removed = set(data_dummies_z.index) - set(z.index)\n",
    "outlier_removed = data_dummies_z.drop(index_removed, axis=0)\n",
    "print(outlier_removed.shape)\n",
    "x_train,x_test,y_train,y_test=train_test_split(outlier_removed.iloc[:,:-2],outlier_removed.iloc[:,58:59], test_size=0.20, random_state=21)"
   ]
  },
  {
   "cell_type": "markdown",
   "metadata": {},
   "source": [
    "## Task 3.Classification using Decision Tree(DT), Random Forest(RF) and Neural Network(MLPs)\n",
    "In this assignment we have used three techniques(DT,RF,NN/MLPs) to work on same classification problem for bank dataset.\n",
    "Given below is the brief description of algorithms used in our assignment:\n",
    "\n",
    "### 1. Decision Trees -CART\n",
    "CART stands for Classification and Regression Trees. For this assignment we have used Scikit-Learn library which by default used CART algorithm. \n",
    "\n",
    "<b>CART Algorithm Steps</b>\n",
    "Decision Tree building algorithm involves a few simple steps and these are:\n",
    "<p>1. Take Labelled Input data - with a Target Variable and a list of Independent Variables</p>\n",
    "<p>2. Best Split: Find Best Split for each of the independent variables</p>\n",
    "<p>3. Best Variable: Select the Best Variable for the split</p>\n",
    "<p>4. Split the input data into Left and Right Nodes</p>\n",
    "<p>5. Continue step 2-4 on each of the nodes until meet stopping criteria</p>\n",
    "<p>6. Decision Tree Pruning : Steps to prune Decision Tree built</p>\n",
    "\n",
    "\n",
    "### 2. Random Forest\n",
    "We have used Scikit Learn implementation for Random Forest.Given below is the brief description on algorithm.\n",
    "<p>In random forests , each tree in the ensemble is built from a sample drawn with replacement (i.e., a bootstrap sample) from the training set. In addition, when splitting a node during the construction of the tree, the split that is chosen is no longer the best split among all features. Instead, the split that is picked is the best split among a random subset of the features. As a result of this randomness, the bias of the forest usually slightly increases (with respect to the bias of a single non-random tree) but, due to averaging, its variance also decreases, usually more than compensating for the increase in bias, hence yielding an overall better model.</p>\n",
    "\n",
    "### 3. Neural Networks\n",
    "\n",
    "As dataset size for this assigment is very small, therefore we decided to use only MLP implementation of NN by Sckitlearn for classification task at hand. Given below is the brief description of 3 layer MLPs:\n",
    "\n",
    "1. Input Layer:vector data, each input collectsone feature/dimension of the dataand passes it on to the ( rst) hidden layer.\n",
    "2. Hidden Layer: Each hidden unit computes a weighted sum of all the units from theinput layer (or any previous layer) and passes it through anonlinearactivation function.\n",
    "3. Output Layer: Each output unit computes a weighted sum of all the hidden unitsand passes it through a (possibly nonlinear)threshold function.\n"
   ]
  },
  {
   "cell_type": "markdown",
   "metadata": {},
   "source": [
    "## Code to search for best value of max_depth in Decision Tree"
   ]
  },
  {
   "cell_type": "code",
   "execution_count": 9,
   "metadata": {},
   "outputs": [
    {
     "name": "stdout",
     "output_type": "stream",
     "text": [
      "Plot maxdepth vs accuracy to choose best classsification property to avoid overfitting\n"
     ]
    },
    {
     "data": {
      "image/png": "[encoded data removed]",
      "text/plain": [
       "<Figure size 432x288 with 1 Axes>"
      ]
     },
     "metadata": {
      "needs_background": "light"
     },
     "output_type": "display_data"
    }
   ],
   "source": [
    "from sklearn import tree\n",
    "from sklearn.metrics import classification_report, accuracy_score, confusion_matrix\n",
    "depth_search=[1,2,3,4,5,7,9,10]\n",
    "Accuracy_list=[]\n",
    "#initialise variable to store values\n",
    "true_positive = []\n",
    "true_negative = []\n",
    "false_positive = []\n",
    "false_negative = []\n",
    "accuracy_vals = []\n",
    "print(\"Plot maxdepth vs accuracy to choose best classsification property to avoid overfitting\")\n",
    "for maxdepth in depth_search:\n",
    "#     print(depth_search.keys())\n",
    "    DT=tree.DecisionTreeClassifier(max_depth=maxdepth)\n",
    "    DT.fit(x_train,y_train)\n",
    "    y_dt_pred=DT.predict(x_test)\n",
    "\n",
    "    treeObj=DT.tree_\n",
    "#     print(\"Tree Size is:\",treeObj.node_count)\n",
    "    dt_accuracy = accuracy_score(y_test.values.flatten(),y_dt_pred.flatten())\n",
    "    accuracy_vals.append(dt_accuracy)\n",
    "    dt_confusion = confusion_matrix(y_test.values.flatten(),y_dt_pred.flatten())\n",
    "    true_positive.append(dt_confusion[1][1])\n",
    "    true_negative.append(dt_confusion[0][0])\n",
    "    false_positive.append(dt_confusion[0][1])\n",
    "    false_negative.append(dt_confusion[1][0])\n",
    "    Accuracy_list.append(dt_accuracy)\n",
    "#     print(\"max_depth:\",maxdepth,\"Accuracy:\",dt_accuracy)\n",
    "plt.figure()\n",
    "plt.plot(depth_search,Accuracy_list)\n",
    "plt.xlabel(\"max_depth\")\n",
    "plt.ylabel(\"Classification Accuracy\")    \n",
    "plt.show()    "
   ]
  },
  {
   "cell_type": "markdown",
   "metadata": {},
   "source": [
    "## Observation 1: \n",
    "From the above plot(max_depth vs classification accuracy), it can be infered that model starts getting overfit on train data if tree depth is more than 4 or 5(This changes because plot changes on each run due to random nature)"
   ]
  },
  {
   "cell_type": "markdown",
   "metadata": {},
   "source": [
    "## Code to search for best value of min_samples_split in Decision Tree"
   ]
  },
  {
   "cell_type": "code",
   "execution_count": 10,
   "metadata": {},
   "outputs": [
    {
     "name": "stdout",
     "output_type": "stream",
     "text": [
      "Plot maxdepth vs accuracy to choose best classsification property to avoid overfitting\n"
     ]
    },
    {
     "data": {
      "image/png": "[encoded data removed]",
      "text/plain": [
       "<Figure size 432x288 with 1 Axes>"
      ]
     },
     "metadata": {
      "needs_background": "light"
     },
     "output_type": "display_data"
    }
   ],
   "source": [
    "from sklearn import tree\n",
    "from sklearn.metrics import classification_report, accuracy_score, confusion_matrix\n",
    "depth_search=[1,2,3,4,5,7,9,10]\n",
    "min_samples_split_search=[2,3,4,5,10,15,20,30,35,40]\n",
    "Accuracy_list=[]\n",
    "#initialise variable to store values\n",
    "true_positive = []\n",
    "true_negative = []\n",
    "false_positive = []\n",
    "false_negative = []\n",
    "accuracy_vals = []\n",
    "print(\"Plot maxdepth vs accuracy to choose best classsification property to avoid overfitting\")\n",
    "for minsamp in min_samples_split_search:\n",
    "#     print(depth_search.keys())\n",
    "    DT=tree.DecisionTreeClassifier(min_samples_split=minsamp)\n",
    "    DT.fit(x_train,y_train)\n",
    "    y_dt_pred=DT.predict(x_test)\n",
    "\n",
    "    treeObj=DT.tree_\n",
    "#     print(\"Tree Size is:\",treeObj.node_count)\n",
    "    dt_accuracy = accuracy_score(y_test.values.flatten(),y_dt_pred.flatten())\n",
    "    accuracy_vals.append(dt_accuracy)\n",
    "    dt_confusion = confusion_matrix(y_test.values.flatten(),y_dt_pred.flatten())\n",
    "    true_positive.append(dt_confusion[1][1])\n",
    "    true_negative.append(dt_confusion[0][0])\n",
    "    false_positive.append(dt_confusion[0][1])\n",
    "    false_negative.append(dt_confusion[1][0])\n",
    "    Accuracy_list.append(dt_accuracy)\n",
    "#     print(\"max_depth:\",maxdepth,\"Accuracy:\",dt_accuracy)\n",
    "plt.figure()\n",
    "plt.plot(min_samples_split_search,Accuracy_list)\n",
    "plt.xlabel(\"Min_Samp_Split\")\n",
    "plt.ylabel(\"Classification Accuracy\")    \n",
    "plt.show()  "
   ]
  },
  {
   "cell_type": "markdown",
   "metadata": {},
   "source": [
    "## Observation 2: \n",
    "From the above plot(Min_Samp_Split vs classification accuracy), it can be infered that model gives best performance on dev/train set if min_samp_split is in range 20-23"
   ]
  },
  {
   "cell_type": "markdown",
   "metadata": {},
   "source": [
    "# Decision Tree classifier implementation with best tuned parameters"
   ]
  },
  {
   "cell_type": "code",
   "execution_count": 12,
   "metadata": {},
   "outputs": [
    {
     "name": "stdout",
     "output_type": "stream",
     "text": [
      "Accuracy Score(DT,max_depth=4) :\n",
      " 0.9086021505376344\n",
      "Confusion Matrix(DT,max_depth=4) :\n",
      " [[649  26]\n",
      " [ 42  27]]\n",
      "\n",
      "Classification Report(DT,max_depth=4) :\n",
      "               precision    recall  f1-score   support\n",
      "\n",
      "           0       0.94      0.96      0.95       675\n",
      "           1       0.51      0.39      0.44        69\n",
      "\n",
      "   micro avg       0.91      0.91      0.91       744\n",
      "   macro avg       0.72      0.68      0.70       744\n",
      "weighted avg       0.90      0.91      0.90       744\n",
      "\n"
     ]
    }
   ],
   "source": [
    "# Decision Tree classifier with best tuned parameters\n",
    "DT=tree.DecisionTreeClassifier(max_depth=4,min_samples_split=22)\n",
    "DT.fit(x_train,y_train)\n",
    "y_dt_pred=DT.predict(x_test)\n",
    "treeObj=DT.tree_\n",
    "# print(\"Tree Size is:\",treeObj.node_count)\n",
    "dt_accuracy = accuracy_score(y_test.values.flatten(),y_dt_pred.flatten())\n",
    "accuracy_vals.append(dt_accuracy)\n",
    "dt_confusion = confusion_matrix(y_test.values.flatten(),y_dt_pred.flatten())\n",
    "true_positive.append(dt_confusion[1][1])\n",
    "true_negative.append(dt_confusion[0][0])\n",
    "false_positive.append(dt_confusion[0][1])\n",
    "false_negative.append(dt_confusion[1][0])\n",
    "Accuracy_list.append(dt_accuracy)\n",
    "# print(\"max_depth:\",maxdepth,\"Accuracy:\",dt_accuracy)        \n",
    "\n",
    "print(\"Accuracy Score(DT,max_depth=4) :\\n\",dt_accuracy)\n",
    "print(\"Confusion Matrix(DT,max_depth=4) :\\n\",dt_confusion)\n",
    "print(\"\\nClassification Report(DT,max_depth=4) :\\n\",classification_report(y_test,y_dt_pred))"
   ]
  },
  {
   "cell_type": "markdown",
   "metadata": {},
   "source": [
    "## Justification for Classification Parameter Selection for Decision Tree\n",
    "\n",
    "### max_depth = 4 \n",
    "The maximum depth of the tree.\n",
    "### min_split_size = 22\n",
    "The minimum number of samples required to split an internal node\n",
    "### Reasoning:\n",
    "As it is well known fact that Decision Trees are prone to problem of overfitting, hence selection of right classification parameters(aka hyperparameters) is very important.\n",
    "As discussed in previous two steps(observation 1 and observation 2), we observed that DT classification accuracy on given data set improves from ~89.6 %(max_depth=default based on dataset i.e. definitely greater than 4, min_split_size=2) to ~91.55 % (max_depth=4 and min_split_size=35). Also it is worth to note that with smaller \"max_depth\" and larger \"min_split_size\" improves the computational efficiency of the DT model."
   ]
  },
  {
   "cell_type": "markdown",
   "metadata": {},
   "source": [
    "## Code to search for best value of ensemble size in Random Forest"
   ]
  },
  {
   "cell_type": "code",
   "execution_count": 94,
   "metadata": {},
   "outputs": [
    {
     "name": "stderr",
     "output_type": "stream",
     "text": [
      "C:\\Users\\jatin\\Anaconda3\\lib\\site-packages\\ipykernel_launcher.py:7: DataConversionWarning: A column-vector y was passed when a 1d array was expected. Please change the shape of y to (n_samples,), for example using ravel().\n",
      "  import sys\n",
      "C:\\Users\\jatin\\Anaconda3\\lib\\site-packages\\ipykernel_launcher.py:7: DataConversionWarning: A column-vector y was passed when a 1d array was expected. Please change the shape of y to (n_samples,), for example using ravel().\n",
      "  import sys\n",
      "C:\\Users\\jatin\\Anaconda3\\lib\\site-packages\\ipykernel_launcher.py:7: DataConversionWarning: A column-vector y was passed when a 1d array was expected. Please change the shape of y to (n_samples,), for example using ravel().\n",
      "  import sys\n",
      "C:\\Users\\jatin\\Anaconda3\\lib\\site-packages\\ipykernel_launcher.py:7: DataConversionWarning: A column-vector y was passed when a 1d array was expected. Please change the shape of y to (n_samples,), for example using ravel().\n",
      "  import sys\n",
      "C:\\Users\\jatin\\Anaconda3\\lib\\site-packages\\ipykernel_launcher.py:7: DataConversionWarning: A column-vector y was passed when a 1d array was expected. Please change the shape of y to (n_samples,), for example using ravel().\n",
      "  import sys\n",
      "C:\\Users\\jatin\\Anaconda3\\lib\\site-packages\\ipykernel_launcher.py:7: DataConversionWarning: A column-vector y was passed when a 1d array was expected. Please change the shape of y to (n_samples,), for example using ravel().\n",
      "  import sys\n",
      "C:\\Users\\jatin\\Anaconda3\\lib\\site-packages\\ipykernel_launcher.py:7: DataConversionWarning: A column-vector y was passed when a 1d array was expected. Please change the shape of y to (n_samples,), for example using ravel().\n",
      "  import sys\n",
      "C:\\Users\\jatin\\Anaconda3\\lib\\site-packages\\ipykernel_launcher.py:7: DataConversionWarning: A column-vector y was passed when a 1d array was expected. Please change the shape of y to (n_samples,), for example using ravel().\n",
      "  import sys\n",
      "C:\\Users\\jatin\\Anaconda3\\lib\\site-packages\\ipykernel_launcher.py:7: DataConversionWarning: A column-vector y was passed when a 1d array was expected. Please change the shape of y to (n_samples,), for example using ravel().\n",
      "  import sys\n",
      "C:\\Users\\jatin\\Anaconda3\\lib\\site-packages\\ipykernel_launcher.py:7: DataConversionWarning: A column-vector y was passed when a 1d array was expected. Please change the shape of y to (n_samples,), for example using ravel().\n",
      "  import sys\n",
      "C:\\Users\\jatin\\Anaconda3\\lib\\site-packages\\ipykernel_launcher.py:7: DataConversionWarning: A column-vector y was passed when a 1d array was expected. Please change the shape of y to (n_samples,), for example using ravel().\n",
      "  import sys\n",
      "C:\\Users\\jatin\\Anaconda3\\lib\\site-packages\\ipykernel_launcher.py:7: DataConversionWarning: A column-vector y was passed when a 1d array was expected. Please change the shape of y to (n_samples,), for example using ravel().\n",
      "  import sys\n",
      "C:\\Users\\jatin\\Anaconda3\\lib\\site-packages\\ipykernel_launcher.py:7: DataConversionWarning: A column-vector y was passed when a 1d array was expected. Please change the shape of y to (n_samples,), for example using ravel().\n",
      "  import sys\n",
      "C:\\Users\\jatin\\Anaconda3\\lib\\site-packages\\ipykernel_launcher.py:7: DataConversionWarning: A column-vector y was passed when a 1d array was expected. Please change the shape of y to (n_samples,), for example using ravel().\n",
      "  import sys\n",
      "C:\\Users\\jatin\\Anaconda3\\lib\\site-packages\\ipykernel_launcher.py:7: DataConversionWarning: A column-vector y was passed when a 1d array was expected. Please change the shape of y to (n_samples,), for example using ravel().\n",
      "  import sys\n"
     ]
    },
    {
     "data": {
      "image/png": "[encoded data removed]",
      "text/plain": [
       "<Figure size 432x288 with 1 Axes>"
      ]
     },
     "metadata": {
      "needs_background": "light"
     },
     "output_type": "display_data"
    },
    {
     "name": "stdout",
     "output_type": "stream",
     "text": [
      "[0.907258064516129, 0.918010752688172, 0.9166666666666666, 0.9086021505376344, 0.907258064516129, 0.9139784946236559, 0.9126344086021505, 0.9099462365591398, 0.9126344086021505, 0.9086021505376344, 0.9112903225806451, 0.9099462365591398, 0.9086021505376344, 0.9086021505376344, 0.9099462365591398]\n"
     ]
    }
   ],
   "source": [
    "##Code to search for best value of ensemble size\n",
    "from sklearn.ensemble import RandomForestClassifier\n",
    "ensemblesize_search=[10,15,20,50,100,150,200,250,300,400,500,750,1000,1500,2000]\n",
    "Accuracy_list=[]\n",
    "for ens_size in ensemblesize_search:\n",
    "    RF=RandomForestClassifier(n_estimators = ens_size, )\n",
    "    RF.fit(x_train,y_train)\n",
    "    y_rf_pred=RF.predict(x_test)\n",
    "    rf_accuracy = accuracy_score(y_test.values.flatten(),y_rf_pred.flatten())\n",
    "#     accuracy_vals.append(rf_accuracy)\n",
    "#     rf_confusion = confusion_matrix(y_test.values.flatten(),y_rf_pred.flatten())\n",
    "#     true_positive.append(rf_confusion[1][1])\n",
    "#     true_negative.append(rf_confusion[0][0])\n",
    "#     false_positive.append(rf_confusion[0][1])\n",
    "#     false_negative.append(rf_confusion[1][0])\n",
    "    Accuracy_list.append(rf_accuracy)\n",
    "#     print(\"max_depth:\",maxdepth,\"Accuracy:\",dt_accuracy)\n",
    "plt.figure()\n",
    "plt.plot(ensemblesize_search,Accuracy_list)\n",
    "plt.xlabel(\"Ensemble Size\")\n",
    "plt.ylabel(\"Classification Accuracy\")    \n",
    "plt.show()    \n",
    "print(Accuracy_list)\n",
    "# print(\"Accuracy Score :\\n\", rf_accuracy)\n",
    "# print(\"Confusion Matrix :\\n\",rf_confusion)\n",
    "# print(classification_report(y_test,y_rf_pred))"
   ]
  },
  {
   "cell_type": "markdown",
   "metadata": {},
   "source": [
    "## Justification for Classification Parameter Selection for Random Forest: \n",
    "\n",
    "### Ensemble Size 500\n",
    "### Max Features 8\n",
    "### Reasoning\n",
    "From the above plot, it is very difficult to say that which is the best emsemble size for best classification accuracy. However it can be observed that classification accuracy becomes more or less in constant after ensemble size = 500.Therefore we chose n_estimator =500. \n",
    "For \"max_feature\" parameter we are chosing 8 i.e. approx. squrt(No. of Features in Dataset). This value is considered to be empirically best for any Random Forest algotithm for classification problem."
   ]
  },
  {
   "cell_type": "code",
   "execution_count": 13,
   "metadata": {},
   "outputs": [
    {
     "name": "stderr",
     "output_type": "stream",
     "text": [
      "C:\\Users\\jatin\\Anaconda3\\lib\\site-packages\\ipykernel_launcher.py:6: DataConversionWarning: A column-vector y was passed when a 1d array was expected. Please change the shape of y to (n_samples,), for example using ravel().\n",
      "  \n"
     ]
    },
    {
     "name": "stdout",
     "output_type": "stream",
     "text": [
      "Accuracy Score(Ensemble Size 750, max_features=8) :\n",
      " 0.907258064516129\n",
      "Confusion Matrix(Ensemble Size 750, max_featues=8) :\n",
      " [[665  10]\n",
      " [ 59  10]]\n",
      "              precision    recall  f1-score   support\n",
      "\n",
      "           0       0.92      0.99      0.95       675\n",
      "           1       0.50      0.14      0.22        69\n",
      "\n",
      "   micro avg       0.91      0.91      0.91       744\n",
      "   macro avg       0.71      0.57      0.59       744\n",
      "weighted avg       0.88      0.91      0.88       744\n",
      "\n"
     ]
    }
   ],
   "source": [
    "## RF with best Ensemble Size\n",
    "ens_size=500\n",
    "max_features=8\n",
    "# print(max_features)\n",
    "RF=RandomForestClassifier(n_estimators = ens_size,max_features=math.ceil(math.sqrt(x_train.shape[1])))\n",
    "RF.fit(x_train,y_train)\n",
    "y_rf_pred=RF.predict(x_test)\n",
    "rf_accuracy = accuracy_score(y_test.values.flatten(),y_rf_pred.flatten())\n",
    "accuracy_vals.append(rf_accuracy)\n",
    "rf_confusion = confusion_matrix(y_test.values.flatten(),y_rf_pred.flatten())\n",
    "true_positive.append(rf_confusion[1][1])\n",
    "true_negative.append(rf_confusion[0][0])\n",
    "false_positive.append(rf_confusion[0][1])\n",
    "false_negative.append(rf_confusion[1][0])\n",
    "Accuracy_list.append(rf_accuracy)\n",
    "\n",
    "print(\"Accuracy Score(Ensemble Size 750, max_features=8) :\\n\", rf_accuracy)\n",
    "print(\"Confusion Matrix(Ensemble Size 750, max_featues=8) :\\n\",rf_confusion)\n",
    "print(classification_report(y_test,y_rf_pred))"
   ]
  },
  {
   "cell_type": "markdown",
   "metadata": {},
   "source": [
    "## Code to search for best hidden layer size in Neural Network Implementation"
   ]
  },
  {
   "cell_type": "code",
   "execution_count": 98,
   "metadata": {},
   "outputs": [
    {
     "name": "stderr",
     "output_type": "stream",
     "text": [
      "C:\\Users\\jatin\\Anaconda3\\lib\\site-packages\\sklearn\\neural_network\\multilayer_perceptron.py:916: DataConversionWarning: A column-vector y was passed when a 1d array was expected. Please change the shape of y to (n_samples, ), for example using ravel().\n",
      "  y = column_or_1d(y, warn=True)\n",
      "C:\\Users\\jatin\\Anaconda3\\lib\\site-packages\\sklearn\\neural_network\\multilayer_perceptron.py:916: DataConversionWarning: A column-vector y was passed when a 1d array was expected. Please change the shape of y to (n_samples, ), for example using ravel().\n",
      "  y = column_or_1d(y, warn=True)\n",
      "C:\\Users\\jatin\\Anaconda3\\lib\\site-packages\\sklearn\\neural_network\\multilayer_perceptron.py:562: ConvergenceWarning: Stochastic Optimizer: Maximum iterations (200) reached and the optimization hasn't converged yet.\n",
      "  % self.max_iter, ConvergenceWarning)\n",
      "C:\\Users\\jatin\\Anaconda3\\lib\\site-packages\\sklearn\\neural_network\\multilayer_perceptron.py:916: DataConversionWarning: A column-vector y was passed when a 1d array was expected. Please change the shape of y to (n_samples, ), for example using ravel().\n",
      "  y = column_or_1d(y, warn=True)\n",
      "C:\\Users\\jatin\\Anaconda3\\lib\\site-packages\\sklearn\\neural_network\\multilayer_perceptron.py:562: ConvergenceWarning: Stochastic Optimizer: Maximum iterations (200) reached and the optimization hasn't converged yet.\n",
      "  % self.max_iter, ConvergenceWarning)\n",
      "C:\\Users\\jatin\\Anaconda3\\lib\\site-packages\\sklearn\\neural_network\\multilayer_perceptron.py:916: DataConversionWarning: A column-vector y was passed when a 1d array was expected. Please change the shape of y to (n_samples, ), for example using ravel().\n",
      "  y = column_or_1d(y, warn=True)\n",
      "C:\\Users\\jatin\\Anaconda3\\lib\\site-packages\\sklearn\\neural_network\\multilayer_perceptron.py:562: ConvergenceWarning: Stochastic Optimizer: Maximum iterations (200) reached and the optimization hasn't converged yet.\n",
      "  % self.max_iter, ConvergenceWarning)\n",
      "C:\\Users\\jatin\\Anaconda3\\lib\\site-packages\\sklearn\\neural_network\\multilayer_perceptron.py:916: DataConversionWarning: A column-vector y was passed when a 1d array was expected. Please change the shape of y to (n_samples, ), for example using ravel().\n",
      "  y = column_or_1d(y, warn=True)\n",
      "C:\\Users\\jatin\\Anaconda3\\lib\\site-packages\\sklearn\\neural_network\\multilayer_perceptron.py:562: ConvergenceWarning: Stochastic Optimizer: Maximum iterations (200) reached and the optimization hasn't converged yet.\n",
      "  % self.max_iter, ConvergenceWarning)\n",
      "C:\\Users\\jatin\\Anaconda3\\lib\\site-packages\\sklearn\\neural_network\\multilayer_perceptron.py:916: DataConversionWarning: A column-vector y was passed when a 1d array was expected. Please change the shape of y to (n_samples, ), for example using ravel().\n",
      "  y = column_or_1d(y, warn=True)\n",
      "C:\\Users\\jatin\\Anaconda3\\lib\\site-packages\\sklearn\\neural_network\\multilayer_perceptron.py:562: ConvergenceWarning: Stochastic Optimizer: Maximum iterations (200) reached and the optimization hasn't converged yet.\n",
      "  % self.max_iter, ConvergenceWarning)\n",
      "C:\\Users\\jatin\\Anaconda3\\lib\\site-packages\\sklearn\\neural_network\\multilayer_perceptron.py:916: DataConversionWarning: A column-vector y was passed when a 1d array was expected. Please change the shape of y to (n_samples, ), for example using ravel().\n",
      "  y = column_or_1d(y, warn=True)\n",
      "C:\\Users\\jatin\\Anaconda3\\lib\\site-packages\\sklearn\\neural_network\\multilayer_perceptron.py:562: ConvergenceWarning: Stochastic Optimizer: Maximum iterations (200) reached and the optimization hasn't converged yet.\n",
      "  % self.max_iter, ConvergenceWarning)\n",
      "C:\\Users\\jatin\\Anaconda3\\lib\\site-packages\\sklearn\\neural_network\\multilayer_perceptron.py:916: DataConversionWarning: A column-vector y was passed when a 1d array was expected. Please change the shape of y to (n_samples, ), for example using ravel().\n",
      "  y = column_or_1d(y, warn=True)\n",
      "C:\\Users\\jatin\\Anaconda3\\lib\\site-packages\\sklearn\\neural_network\\multilayer_perceptron.py:562: ConvergenceWarning: Stochastic Optimizer: Maximum iterations (200) reached and the optimization hasn't converged yet.\n",
      "  % self.max_iter, ConvergenceWarning)\n",
      "C:\\Users\\jatin\\Anaconda3\\lib\\site-packages\\sklearn\\neural_network\\multilayer_perceptron.py:916: DataConversionWarning: A column-vector y was passed when a 1d array was expected. Please change the shape of y to (n_samples, ), for example using ravel().\n",
      "  y = column_or_1d(y, warn=True)\n",
      "C:\\Users\\jatin\\Anaconda3\\lib\\site-packages\\sklearn\\neural_network\\multilayer_perceptron.py:562: ConvergenceWarning: Stochastic Optimizer: Maximum iterations (200) reached and the optimization hasn't converged yet.\n",
      "  % self.max_iter, ConvergenceWarning)\n",
      "C:\\Users\\jatin\\Anaconda3\\lib\\site-packages\\sklearn\\neural_network\\multilayer_perceptron.py:916: DataConversionWarning: A column-vector y was passed when a 1d array was expected. Please change the shape of y to (n_samples, ), for example using ravel().\n",
      "  y = column_or_1d(y, warn=True)\n",
      "C:\\Users\\jatin\\Anaconda3\\lib\\site-packages\\sklearn\\neural_network\\multilayer_perceptron.py:562: ConvergenceWarning: Stochastic Optimizer: Maximum iterations (200) reached and the optimization hasn't converged yet.\n",
      "  % self.max_iter, ConvergenceWarning)\n"
     ]
    },
    {
     "data": {
      "image/png": "[encoded data removed]",
      "text/plain": [
       "<Figure size 432x288 with 1 Axes>"
      ]
     },
     "metadata": {
      "needs_background": "light"
     },
     "output_type": "display_data"
    },
    {
     "name": "stdout",
     "output_type": "stream",
     "text": [
      "[0.907258064516129, 0.9112903225806451, 0.907258064516129, 0.9206989247311828, 0.9099462365591398, 0.9166666666666666, 0.9099462365591398, 0.9099462365591398, 0.9045698924731183, 0.9005376344086021]\n"
     ]
    }
   ],
   "source": [
    "## Code to search for best hidden layer size\n",
    "from sklearn.neural_network import MLPClassifier\n",
    "hiddensize_search=[1,2,3,4,5,10,15,20,25,30]\n",
    "Accuracy_list=[]\n",
    "for h in hiddensize_search:\n",
    "    \n",
    "    NN=MLPClassifier(solver='adam', hidden_layer_sizes = (h))\n",
    "    NN.fit(x_train,y_train)\n",
    "    y_nn_pred=NN.predict(x_test)\n",
    "    nn_accuracy = accuracy_score(y_test.values.flatten(),y_nn_pred.flatten())\n",
    "    accuracy_vals.append(nn_accuracy)\n",
    "    nn_confusion = confusion_matrix(y_test.values.flatten(),y_nn_pred.flatten())\n",
    "    true_positive.append(nn_confusion[1][1])\n",
    "    true_negative.append(nn_confusion[0][0])\n",
    "    false_positive.append(nn_confusion[0][1])\n",
    "    false_negative.append(nn_confusion[1][0])\n",
    "    Accuracy_list.append(nn_accuracy)\n",
    "plt.figure()\n",
    "plt.plot(hiddensize_search,Accuracy_list)\n",
    "plt.xlabel(\"hidden layer Size\")\n",
    "plt.ylabel(\"Classification Accuracy\")    \n",
    "plt.show() \n",
    "print(Accuracy_list)\n",
    "# print(\"Accuracy Score :\\n\",nn_accuracy)\n",
    "# print(\"Confusion Matrix :\\n\",nn_confusion)\n",
    "# print(classification_report(y_test,y_nn_pred))"
   ]
  },
  {
   "cell_type": "markdown",
   "metadata": {},
   "source": [
    "## Justification for Classification Parameter Selection for Random Forest\n",
    "### hidden layer size= 20\n",
    "### No. of hidden layers=1\n",
    "### Reasoning:\n",
    "As it can be observed that performance of neural network model improves initially with the increase of hidden layer size but decreases after hidden layer size is greater than 20. Possible reason for this is that NN model starts overfitting on training data. Therfore we have chosed hidden_layer_size parameter as 20.\n",
    "Also we observered that NN accuracy decreases with more number of hidden layers, therefore we decided to keep hidden_layers=1"
   ]
  },
  {
   "cell_type": "code",
   "execution_count": 99,
   "metadata": {},
   "outputs": [
    {
     "name": "stderr",
     "output_type": "stream",
     "text": [
      "C:\\Users\\jatin\\Anaconda3\\lib\\site-packages\\sklearn\\neural_network\\multilayer_perceptron.py:916: DataConversionWarning: A column-vector y was passed when a 1d array was expected. Please change the shape of y to (n_samples, ), for example using ravel().\n",
      "  y = column_or_1d(y, warn=True)\n",
      "C:\\Users\\jatin\\Anaconda3\\lib\\site-packages\\sklearn\\neural_network\\multilayer_perceptron.py:562: ConvergenceWarning: Stochastic Optimizer: Maximum iterations (200) reached and the optimization hasn't converged yet.\n",
      "  % self.max_iter, ConvergenceWarning)\n",
      "C:\\Users\\jatin\\Anaconda3\\lib\\site-packages\\sklearn\\neural_network\\multilayer_perceptron.py:916: DataConversionWarning: A column-vector y was passed when a 1d array was expected. Please change the shape of y to (n_samples, ), for example using ravel().\n",
      "  y = column_or_1d(y, warn=True)\n",
      "C:\\Users\\jatin\\Anaconda3\\lib\\site-packages\\sklearn\\neural_network\\multilayer_perceptron.py:562: ConvergenceWarning: Stochastic Optimizer: Maximum iterations (200) reached and the optimization hasn't converged yet.\n",
      "  % self.max_iter, ConvergenceWarning)\n",
      "C:\\Users\\jatin\\Anaconda3\\lib\\site-packages\\sklearn\\neural_network\\multilayer_perceptron.py:916: DataConversionWarning: A column-vector y was passed when a 1d array was expected. Please change the shape of y to (n_samples, ), for example using ravel().\n",
      "  y = column_or_1d(y, warn=True)\n",
      "C:\\Users\\jatin\\Anaconda3\\lib\\site-packages\\sklearn\\neural_network\\multilayer_perceptron.py:562: ConvergenceWarning: Stochastic Optimizer: Maximum iterations (200) reached and the optimization hasn't converged yet.\n",
      "  % self.max_iter, ConvergenceWarning)\n",
      "C:\\Users\\jatin\\Anaconda3\\lib\\site-packages\\sklearn\\neural_network\\multilayer_perceptron.py:916: DataConversionWarning: A column-vector y was passed when a 1d array was expected. Please change the shape of y to (n_samples, ), for example using ravel().\n",
      "  y = column_or_1d(y, warn=True)\n",
      "C:\\Users\\jatin\\Anaconda3\\lib\\site-packages\\sklearn\\neural_network\\multilayer_perceptron.py:562: ConvergenceWarning: Stochastic Optimizer: Maximum iterations (200) reached and the optimization hasn't converged yet.\n",
      "  % self.max_iter, ConvergenceWarning)\n",
      "C:\\Users\\jatin\\Anaconda3\\lib\\site-packages\\sklearn\\neural_network\\multilayer_perceptron.py:916: DataConversionWarning: A column-vector y was passed when a 1d array was expected. Please change the shape of y to (n_samples, ), for example using ravel().\n",
      "  y = column_or_1d(y, warn=True)\n",
      "C:\\Users\\jatin\\Anaconda3\\lib\\site-packages\\sklearn\\neural_network\\multilayer_perceptron.py:562: ConvergenceWarning: Stochastic Optimizer: Maximum iterations (200) reached and the optimization hasn't converged yet.\n",
      "  % self.max_iter, ConvergenceWarning)\n",
      "C:\\Users\\jatin\\Anaconda3\\lib\\site-packages\\sklearn\\neural_network\\multilayer_perceptron.py:916: DataConversionWarning: A column-vector y was passed when a 1d array was expected. Please change the shape of y to (n_samples, ), for example using ravel().\n",
      "  y = column_or_1d(y, warn=True)\n",
      "C:\\Users\\jatin\\Anaconda3\\lib\\site-packages\\sklearn\\neural_network\\multilayer_perceptron.py:562: ConvergenceWarning: Stochastic Optimizer: Maximum iterations (200) reached and the optimization hasn't converged yet.\n",
      "  % self.max_iter, ConvergenceWarning)\n",
      "C:\\Users\\jatin\\Anaconda3\\lib\\site-packages\\sklearn\\neural_network\\multilayer_perceptron.py:916: DataConversionWarning: A column-vector y was passed when a 1d array was expected. Please change the shape of y to (n_samples, ), for example using ravel().\n",
      "  y = column_or_1d(y, warn=True)\n",
      "C:\\Users\\jatin\\Anaconda3\\lib\\site-packages\\sklearn\\neural_network\\multilayer_perceptron.py:562: ConvergenceWarning: Stochastic Optimizer: Maximum iterations (200) reached and the optimization hasn't converged yet.\n",
      "  % self.max_iter, ConvergenceWarning)\n",
      "C:\\Users\\jatin\\Anaconda3\\lib\\site-packages\\sklearn\\neural_network\\multilayer_perceptron.py:916: DataConversionWarning: A column-vector y was passed when a 1d array was expected. Please change the shape of y to (n_samples, ), for example using ravel().\n",
      "  y = column_or_1d(y, warn=True)\n",
      "C:\\Users\\jatin\\Anaconda3\\lib\\site-packages\\sklearn\\neural_network\\multilayer_perceptron.py:562: ConvergenceWarning: Stochastic Optimizer: Maximum iterations (200) reached and the optimization hasn't converged yet.\n",
      "  % self.max_iter, ConvergenceWarning)\n",
      "C:\\Users\\jatin\\Anaconda3\\lib\\site-packages\\sklearn\\neural_network\\multilayer_perceptron.py:916: DataConversionWarning: A column-vector y was passed when a 1d array was expected. Please change the shape of y to (n_samples, ), for example using ravel().\n",
      "  y = column_or_1d(y, warn=True)\n",
      "C:\\Users\\jatin\\Anaconda3\\lib\\site-packages\\sklearn\\neural_network\\multilayer_perceptron.py:562: ConvergenceWarning: Stochastic Optimizer: Maximum iterations (200) reached and the optimization hasn't converged yet.\n",
      "  % self.max_iter, ConvergenceWarning)\n",
      "C:\\Users\\jatin\\Anaconda3\\lib\\site-packages\\sklearn\\neural_network\\multilayer_perceptron.py:916: DataConversionWarning: A column-vector y was passed when a 1d array was expected. Please change the shape of y to (n_samples, ), for example using ravel().\n",
      "  y = column_or_1d(y, warn=True)\n",
      "C:\\Users\\jatin\\Anaconda3\\lib\\site-packages\\sklearn\\neural_network\\multilayer_perceptron.py:562: ConvergenceWarning: Stochastic Optimizer: Maximum iterations (200) reached and the optimization hasn't converged yet.\n",
      "  % self.max_iter, ConvergenceWarning)\n",
      "C:\\Users\\jatin\\Anaconda3\\lib\\site-packages\\sklearn\\neural_network\\multilayer_perceptron.py:916: DataConversionWarning: A column-vector y was passed when a 1d array was expected. Please change the shape of y to (n_samples, ), for example using ravel().\n",
      "  y = column_or_1d(y, warn=True)\n",
      "C:\\Users\\jatin\\Anaconda3\\lib\\site-packages\\sklearn\\neural_network\\multilayer_perceptron.py:562: ConvergenceWarning: Stochastic Optimizer: Maximum iterations (200) reached and the optimization hasn't converged yet.\n",
      "  % self.max_iter, ConvergenceWarning)\n",
      "C:\\Users\\jatin\\Anaconda3\\lib\\site-packages\\sklearn\\neural_network\\multilayer_perceptron.py:916: DataConversionWarning: A column-vector y was passed when a 1d array was expected. Please change the shape of y to (n_samples, ), for example using ravel().\n",
      "  y = column_or_1d(y, warn=True)\n",
      "C:\\Users\\jatin\\Anaconda3\\lib\\site-packages\\sklearn\\neural_network\\multilayer_perceptron.py:562: ConvergenceWarning: Stochastic Optimizer: Maximum iterations (200) reached and the optimization hasn't converged yet.\n",
      "  % self.max_iter, ConvergenceWarning)\n",
      "C:\\Users\\jatin\\Anaconda3\\lib\\site-packages\\sklearn\\neural_network\\multilayer_perceptron.py:916: DataConversionWarning: A column-vector y was passed when a 1d array was expected. Please change the shape of y to (n_samples, ), for example using ravel().\n",
      "  y = column_or_1d(y, warn=True)\n",
      "C:\\Users\\jatin\\Anaconda3\\lib\\site-packages\\sklearn\\neural_network\\multilayer_perceptron.py:562: ConvergenceWarning: Stochastic Optimizer: Maximum iterations (200) reached and the optimization hasn't converged yet.\n",
      "  % self.max_iter, ConvergenceWarning)\n",
      "C:\\Users\\jatin\\Anaconda3\\lib\\site-packages\\sklearn\\neural_network\\multilayer_perceptron.py:916: DataConversionWarning: A column-vector y was passed when a 1d array was expected. Please change the shape of y to (n_samples, ), for example using ravel().\n",
      "  y = column_or_1d(y, warn=True)\n",
      "C:\\Users\\jatin\\Anaconda3\\lib\\site-packages\\sklearn\\neural_network\\multilayer_perceptron.py:562: ConvergenceWarning: Stochastic Optimizer: Maximum iterations (200) reached and the optimization hasn't converged yet.\n",
      "  % self.max_iter, ConvergenceWarning)\n",
      "C:\\Users\\jatin\\Anaconda3\\lib\\site-packages\\sklearn\\neural_network\\multilayer_perceptron.py:916: DataConversionWarning: A column-vector y was passed when a 1d array was expected. Please change the shape of y to (n_samples, ), for example using ravel().\n",
      "  y = column_or_1d(y, warn=True)\n",
      "C:\\Users\\jatin\\Anaconda3\\lib\\site-packages\\sklearn\\neural_network\\multilayer_perceptron.py:562: ConvergenceWarning: Stochastic Optimizer: Maximum iterations (200) reached and the optimization hasn't converged yet.\n",
      "  % self.max_iter, ConvergenceWarning)\n",
      "C:\\Users\\jatin\\Anaconda3\\lib\\site-packages\\sklearn\\neural_network\\multilayer_perceptron.py:916: DataConversionWarning: A column-vector y was passed when a 1d array was expected. Please change the shape of y to (n_samples, ), for example using ravel().\n",
      "  y = column_or_1d(y, warn=True)\n"
     ]
    },
    {
     "name": "stderr",
     "output_type": "stream",
     "text": [
      "C:\\Users\\jatin\\Anaconda3\\lib\\site-packages\\sklearn\\neural_network\\multilayer_perceptron.py:562: ConvergenceWarning: Stochastic Optimizer: Maximum iterations (200) reached and the optimization hasn't converged yet.\n",
      "  % self.max_iter, ConvergenceWarning)\n",
      "C:\\Users\\jatin\\Anaconda3\\lib\\site-packages\\sklearn\\neural_network\\multilayer_perceptron.py:916: DataConversionWarning: A column-vector y was passed when a 1d array was expected. Please change the shape of y to (n_samples, ), for example using ravel().\n",
      "  y = column_or_1d(y, warn=True)\n",
      "C:\\Users\\jatin\\Anaconda3\\lib\\site-packages\\sklearn\\neural_network\\multilayer_perceptron.py:562: ConvergenceWarning: Stochastic Optimizer: Maximum iterations (200) reached and the optimization hasn't converged yet.\n",
      "  % self.max_iter, ConvergenceWarning)\n",
      "C:\\Users\\jatin\\Anaconda3\\lib\\site-packages\\sklearn\\neural_network\\multilayer_perceptron.py:916: DataConversionWarning: A column-vector y was passed when a 1d array was expected. Please change the shape of y to (n_samples, ), for example using ravel().\n",
      "  y = column_or_1d(y, warn=True)\n",
      "C:\\Users\\jatin\\Anaconda3\\lib\\site-packages\\sklearn\\neural_network\\multilayer_perceptron.py:562: ConvergenceWarning: Stochastic Optimizer: Maximum iterations (200) reached and the optimization hasn't converged yet.\n",
      "  % self.max_iter, ConvergenceWarning)\n",
      "C:\\Users\\jatin\\Anaconda3\\lib\\site-packages\\sklearn\\neural_network\\multilayer_perceptron.py:916: DataConversionWarning: A column-vector y was passed when a 1d array was expected. Please change the shape of y to (n_samples, ), for example using ravel().\n",
      "  y = column_or_1d(y, warn=True)\n",
      "C:\\Users\\jatin\\Anaconda3\\lib\\site-packages\\sklearn\\neural_network\\multilayer_perceptron.py:562: ConvergenceWarning: Stochastic Optimizer: Maximum iterations (200) reached and the optimization hasn't converged yet.\n",
      "  % self.max_iter, ConvergenceWarning)\n",
      "C:\\Users\\jatin\\Anaconda3\\lib\\site-packages\\sklearn\\neural_network\\multilayer_perceptron.py:916: DataConversionWarning: A column-vector y was passed when a 1d array was expected. Please change the shape of y to (n_samples, ), for example using ravel().\n",
      "  y = column_or_1d(y, warn=True)\n"
     ]
    },
    {
     "name": "stdout",
     "output_type": "stream",
     "text": [
      "Accuracy Score(Hidden_Size 20) :\n",
      " 0.9055107526881722\n",
      "Confusion Matrix(Hidden_Size 20) :\n",
      " [[650  25]\n",
      " [ 45  24]]\n",
      "              precision    recall  f1-score   support\n",
      "\n",
      "           0       0.94      0.96      0.95       675\n",
      "           1       0.49      0.35      0.41        69\n",
      "\n",
      "   micro avg       0.91      0.91      0.91       744\n",
      "   macro avg       0.71      0.66      0.68       744\n",
      "weighted avg       0.89      0.91      0.90       744\n",
      "\n"
     ]
    },
    {
     "name": "stderr",
     "output_type": "stream",
     "text": [
      "C:\\Users\\jatin\\Anaconda3\\lib\\site-packages\\sklearn\\neural_network\\multilayer_perceptron.py:562: ConvergenceWarning: Stochastic Optimizer: Maximum iterations (200) reached and the optimization hasn't converged yet.\n",
      "  % self.max_iter, ConvergenceWarning)\n"
     ]
    }
   ],
   "source": [
    "NN_Accuracy=[]\n",
    "for count in range(20):\n",
    "    \n",
    "    NN=MLPClassifier(solver='adam', hidden_layer_sizes = (20))\n",
    "    NN.fit(x_train,y_train)\n",
    "    y_nn_pred=NN.predict(x_test)\n",
    "    nn_accuracy = accuracy_score(y_test.values.flatten(),y_nn_pred.flatten())\n",
    "#     accuracy_vals.append(nn_accuracy)\n",
    "    nn_confusion = confusion_matrix(y_test.values.flatten(),y_nn_pred.flatten())\n",
    "    true_positive.append(nn_confusion[1][1])\n",
    "    true_negative.append(nn_confusion[0][0])\n",
    "    false_positive.append(nn_confusion[0][1])\n",
    "    false_negative.append(nn_confusion[1][0])\n",
    "    NN_Accuracy.append(nn_accuracy)\n",
    "averageaccuracy=sum(NN_Accuracy)/len(NN_Accuracy)\n",
    "print(\"Accuracy Score(Hidden_Size 20) :\\n\",averageaccuracy)\n",
    "print(\"Confusion Matrix(Hidden_Size 20) :\\n\",nn_confusion)\n",
    "print(classification_report(y_test,y_nn_pred))"
   ]
  },
  {
   "cell_type": "markdown",
   "metadata": {},
   "source": [
    "## Task 4. Plots"
   ]
  },
  {
   "cell_type": "code",
   "execution_count": null,
   "metadata": {
    "scrolled": true
   },
   "outputs": [
    {
     "name": "stderr",
     "output_type": "stream",
     "text": [
      "C:\\Users\\jatin\\Anaconda3\\lib\\site-packages\\ipykernel_launcher.py:3: SettingWithCopyWarning: \n",
      "A value is trying to be set on a copy of a slice from a DataFrame.\n",
      "Try using .loc[row_indexer,col_indexer] = value instead\n",
      "\n",
      "See the caveats in the documentation: http://pandas.pydata.org/pandas-docs/stable/indexing.html#indexing-view-versus-copy\n",
      "  This is separate from the ipykernel package so we can avoid doing imports until\n",
      "C:\\Users\\jatin\\Anaconda3\\lib\\site-packages\\seaborn\\axisgrid.py:2065: UserWarning: The `size` parameter has been renamed to `height`; pleaes update your code.\n",
      "  warnings.warn(msg, UserWarning)\n",
      "C:\\Users\\jatin\\Anaconda3\\lib\\site-packages\\scipy\\stats\\stats.py:1713: FutureWarning: Using a non-tuple sequence for multidimensional indexing is deprecated; use `arr[tuple(seq)]` instead of `arr[seq]`. In the future this will be interpreted as an array index, `arr[np.array(seq)]`, which will result either in an error or a different result.\n",
      "  return np.add.reduce(sorted[indexer] * weights, axis=axis) / sumval\n",
      "C:\\Users\\jatin\\Anaconda3\\lib\\site-packages\\statsmodels\\nonparametric\\kde.py:488: RuntimeWarning: invalid value encountered in true_divide\n",
      "  binned = fast_linbin(X, a, b, gridsize) / (delta * nobs)\n",
      "C:\\Users\\jatin\\Anaconda3\\lib\\site-packages\\statsmodels\\nonparametric\\kdetools.py:34: RuntimeWarning: invalid value encountered in double_scalars\n",
      "  FAC1 = 2*(np.pi*bw/RANGE)**2\n",
      "C:\\Users\\jatin\\Anaconda3\\lib\\site-packages\\numpy\\core\\fromnumeric.py:83: RuntimeWarning: invalid value encountered in reduce\n",
      "  return ufunc.reduce(obj, axis, dtype, out, **passkwargs)\n"
     ]
    },
    {
     "data": {
      "text/plain": [
       "<seaborn.axisgrid.PairGrid at 0x2445cb37710>"
      ]
     },
     "execution_count": 100,
     "metadata": {},
     "output_type": "execute_result"
    }
   ],
   "source": [
    "import seaborn as sns\n",
    "pred_data = x_test.iloc[:,:20]\n",
    "pred_data[\"subscribed\"] = y_dt_pred\n",
    "sns.pairplot(pred_data, hue=\"subscribed\", size = 2)"
   ]
  },
  {
   "cell_type": "markdown",
   "metadata": {},
   "source": [
    "**Observations:**\n",
    "1. We plotted the pairplots for first 20 features above and it can be seen that for few pair of features, the classification is better. \n",
    "2. The classification is better for few features because these features are important and help in deciding the class. Few pair of features are overlapping and hence do not help the classifier alone, however, these features with some additional features might give a good classification. \n",
    "3. Therefore, the separation of classes in the above plots is an indicator of which features are useful for the classifier to learn and which features are not useful.\n",
    "\n",
    "It was observed that below features are important in deciding the whether client will subscribe or not- \n",
    "1. **Campaign** - As the campaign value increases, i.e., the number of calls to the client are more, he/she does not subscribe irrespective of the job and age \n",
    "2. **Age and Duration** - It can be seen that as the duration of call increases, the client is unlinkely to subscribe irrespective of the age.\n",
    "3. **Age and Job** - If the job of the client is Entrepreneur or Housemaid, irrespective of age, they are not likely to subscribe. "
   ]
  },
  {
   "cell_type": "markdown",
   "metadata": {},
   "source": [
    "### Task 5. Performance Comparison \n",
    " We already computed the accuracy scores, confusion matrix and classification report above for the 3 algorithms - Decision Trees, Random Forest and Neural Networks. Below are the visualisation of the results -"
   ]
  },
  {
   "cell_type": "code",
   "execution_count": 181,
   "metadata": {},
   "outputs": [
    {
     "data": {
      "text/html": [
       "<div>\n",
       "<style scoped>\n",
       "    .dataframe tbody tr th:only-of-type {\n",
       "        vertical-align: middle;\n",
       "    }\n",
       "\n",
       "    .dataframe tbody tr th {\n",
       "        vertical-align: top;\n",
       "    }\n",
       "\n",
       "    .dataframe thead th {\n",
       "        text-align: right;\n",
       "    }\n",
       "</style>\n",
       "<table border=\"1\" class=\"dataframe\">\n",
       "  <thead>\n",
       "    <tr style=\"text-align: right;\">\n",
       "      <th></th>\n",
       "      <th>True positive</th>\n",
       "      <th>True negative</th>\n",
       "      <th>False Positive</th>\n",
       "      <th>False Negative</th>\n",
       "      <th>Accuracy</th>\n",
       "    </tr>\n",
       "  </thead>\n",
       "  <tbody>\n",
       "    <tr>\n",
       "      <th>Decision Trees</th>\n",
       "      <td>27</td>\n",
       "      <td>644</td>\n",
       "      <td>31</td>\n",
       "      <td>42</td>\n",
       "      <td>0.901882</td>\n",
       "    </tr>\n",
       "    <tr>\n",
       "      <th>Random Forest</th>\n",
       "      <td>9</td>\n",
       "      <td>667</td>\n",
       "      <td>8</td>\n",
       "      <td>60</td>\n",
       "      <td>0.908602</td>\n",
       "    </tr>\n",
       "    <tr>\n",
       "      <th>Neural Network</th>\n",
       "      <td>21</td>\n",
       "      <td>642</td>\n",
       "      <td>33</td>\n",
       "      <td>48</td>\n",
       "      <td>0.891129</td>\n",
       "    </tr>\n",
       "  </tbody>\n",
       "</table>\n",
       "</div>"
      ],
      "text/plain": [
       "                True positive  True negative  False Positive  False Negative  \\\n",
       "Decision Trees             27            644              31              42   \n",
       "Random Forest               9            667               8              60   \n",
       "Neural Network             21            642              33              48   \n",
       "\n",
       "                Accuracy  \n",
       "Decision Trees  0.901882  \n",
       "Random Forest   0.908602  \n",
       "Neural Network  0.891129  "
      ]
     },
     "execution_count": 181,
     "metadata": {},
     "output_type": "execute_result"
    }
   ],
   "source": [
    "table = pd.DataFrame({'True positive':true_positive,'True negative':true_negative, 'False Positive':false_positive, 'False Negative': false_negative,'Accuracy':accuracy_vals})\n",
    "table.rename(index={0:'Decision Trees',1:'Random Forest',2:'Neural Network'})"
   ]
  },
  {
   "cell_type": "code",
   "execution_count": 182,
   "metadata": {},
   "outputs": [
    {
     "data": {
      "image/png": "[encoded data removed]",
      "text/plain": [
       "<Figure size 1296x360 with 1 Axes>"
      ]
     },
     "metadata": {
      "needs_background": "light"
     },
     "output_type": "display_data"
    }
   ],
   "source": [
    "# data to plot\n",
    "n_groups = 4\n",
    "means_dt = (true_positive[0], true_negative[0], false_positive[0], false_negative[0])\n",
    "means_rf = (true_positive[1], true_negative[1], false_positive[1], false_negative[1])\n",
    "means_nn = (true_positive[2], true_negative[2], false_positive[2], false_negative[2])\n",
    "# create plot\n",
    "fig, ax = plt.subplots(figsize=(18,5))\n",
    "index = np.arange(n_groups)\n",
    "bar_width = 0.3\n",
    "opacity = 0.8\n",
    " \n",
    "rects1 = plt.bar(index, means_dt, bar_width,\n",
    "alpha=opacity,\n",
    "color='b',\n",
    "label='Decision Trees')\n",
    " \n",
    "rects2 = plt.bar(index + bar_width, means_rf, bar_width,\n",
    "alpha=opacity,\n",
    "color='g',\n",
    "label='Random Forest')\n",
    "\n",
    "rects3 = plt.bar(index + 2*bar_width, means_nn, bar_width,\n",
    "alpha=opacity,\n",
    "color='y',\n",
    "label='Neural Network')\n",
    "\n",
    "plt.xlabel('Metrics')\n",
    "plt.ylabel('Scores')\n",
    "plt.title('Evaluation of Algorithms')\n",
    "plt.xticks(index + bar_width, ('True Positive', 'True Negative', 'False Positive', 'False Negative'))\n",
    "plt.legend()\n",
    " \n",
    "plt.tight_layout()\n",
    "plt.show()"
   ]
  },
  {
   "cell_type": "code",
   "execution_count": 183,
   "metadata": {},
   "outputs": [
    {
     "name": "stdout",
     "output_type": "stream",
     "text": [
      "[90.18817204301075, 90.86021505376344, 89.11290322580645]\n"
     ]
    },
    {
     "data": {
      "image/png": "[encoded data removed]",
      "text/plain": [
       "<Figure size 432x288 with 1 Axes>"
      ]
     },
     "metadata": {
      "needs_background": "light"
     },
     "output_type": "display_data"
    }
   ],
   "source": [
    "algorithms = ('Decision Trees', 'Random Forest', 'Neural Network')\n",
    "y_pos = np.arange(len(algorithms))\n",
    "for i in range(0,len(accuracy_vals)):\n",
    "    accuracy_vals[i] = accuracy_vals[i]*100\n",
    "print(accuracy_vals)\n",
    "plt.bar(y_pos, accuracy_vals, align='center', alpha=0.5)\n",
    "plt.xticks(y_pos, algorithms)\n",
    "plt.ylabel('Accuracy(in %)')\n",
    "plt.title('Accuracy Comparison')\n",
    " \n",
    "plt.show()"
   ]
  },
  {
   "cell_type": "markdown",
   "metadata": {},
   "source": [
    "### Task 6. Observations :\n",
    "1. In the above plots, the first bar chart indicates the true/false positive/negative values predicted by the three classifiers(Decision Trees, Random Forest and Neural Networks) and the second bar plot depicts the average accuracy scores of the three classifiers on the test set.\n",
    "2. Overall, from the above plots it can be seen that **Random Forest** algorithm performs best among the three algorithms and has comparable values of false negative and false positive with the neural network. The accuracy score is also highest for Random Forest.\n",
    "\n",
    "**Why Random Forest has better performance?**\n",
    "1. Random Forest algorithm works better as it uses a technique called bagging(stands for \"Bootstrap Aggregating\"). In this approach, different trees are learned by chosing random subsets of data and random features unlike decision trees where the most important feature is used for splitting a node. The learning is combined/averaged across different subsets of trees. This wide diversity and randomness results in a better model and reduces the variance.\n",
    "\n",
    "2. This algorithm is not sensitive to the kind of data and works well without much preprocessing. Hence, its performance on imbalanced dataset (Dataset A) is not much affected."
   ]
  },
  {
   "cell_type": "markdown",
   "metadata": {},
   "source": [
    "### Contrast performance with classification from the previous homework\n",
    "We will compare the above algorithms results with SVM(linear kernel) and K Nearest Neighbours, below is the comparison-\n"
   ]
  },
  {
   "cell_type": "code",
   "execution_count": 184,
   "metadata": {},
   "outputs": [
    {
     "name": "stdout",
     "output_type": "stream",
     "text": [
      "[27, 9, 21]\n"
     ]
    },
    {
     "data": {
      "text/html": [
       "<div>\n",
       "<style scoped>\n",
       "    .dataframe tbody tr th:only-of-type {\n",
       "        vertical-align: middle;\n",
       "    }\n",
       "\n",
       "    .dataframe tbody tr th {\n",
       "        vertical-align: top;\n",
       "    }\n",
       "\n",
       "    .dataframe thead th {\n",
       "        text-align: right;\n",
       "    }\n",
       "</style>\n",
       "<table border=\"1\" class=\"dataframe\">\n",
       "  <thead>\n",
       "    <tr style=\"text-align: right;\">\n",
       "      <th></th>\n",
       "      <th>True positive</th>\n",
       "      <th>True negative</th>\n",
       "      <th>False Positive</th>\n",
       "      <th>False Negative</th>\n",
       "      <th>Accuracy</th>\n",
       "    </tr>\n",
       "  </thead>\n",
       "  <tbody>\n",
       "    <tr>\n",
       "      <th>Decision Trees</th>\n",
       "      <td>27</td>\n",
       "      <td>644</td>\n",
       "      <td>31</td>\n",
       "      <td>42</td>\n",
       "      <td>90.188172</td>\n",
       "    </tr>\n",
       "    <tr>\n",
       "      <th>Random Forest</th>\n",
       "      <td>9</td>\n",
       "      <td>667</td>\n",
       "      <td>8</td>\n",
       "      <td>60</td>\n",
       "      <td>90.860215</td>\n",
       "    </tr>\n",
       "    <tr>\n",
       "      <th>Neural Network</th>\n",
       "      <td>21</td>\n",
       "      <td>642</td>\n",
       "      <td>33</td>\n",
       "      <td>48</td>\n",
       "      <td>89.112903</td>\n",
       "    </tr>\n",
       "    <tr>\n",
       "      <th>SVM</th>\n",
       "      <td>276</td>\n",
       "      <td>7152</td>\n",
       "      <td>148</td>\n",
       "      <td>662</td>\n",
       "      <td>90.170000</td>\n",
       "    </tr>\n",
       "    <tr>\n",
       "      <th>KNN</th>\n",
       "      <td>285</td>\n",
       "      <td>7159</td>\n",
       "      <td>141</td>\n",
       "      <td>653</td>\n",
       "      <td>90.300000</td>\n",
       "    </tr>\n",
       "    <tr>\n",
       "      <th>SVM(applying get_dummies)</th>\n",
       "      <td>248</td>\n",
       "      <td>7209</td>\n",
       "      <td>139</td>\n",
       "      <td>642</td>\n",
       "      <td>90.520000</td>\n",
       "    </tr>\n",
       "    <tr>\n",
       "      <th>KNN(applying get_dummies)</th>\n",
       "      <td>368</td>\n",
       "      <td>7114</td>\n",
       "      <td>234</td>\n",
       "      <td>522</td>\n",
       "      <td>90.820000</td>\n",
       "    </tr>\n",
       "  </tbody>\n",
       "</table>\n",
       "</div>"
      ],
      "text/plain": [
       "                           True positive  True negative  False Positive  \\\n",
       "Decision Trees                        27            644              31   \n",
       "Random Forest                          9            667               8   \n",
       "Neural Network                        21            642              33   \n",
       "SVM                                  276           7152             148   \n",
       "KNN                                  285           7159             141   \n",
       "SVM(applying get_dummies)            248           7209             139   \n",
       "KNN(applying get_dummies)            368           7114             234   \n",
       "\n",
       "                           False Negative   Accuracy  \n",
       "Decision Trees                         42  90.188172  \n",
       "Random Forest                          60  90.860215  \n",
       "Neural Network                         48  89.112903  \n",
       "SVM                                   662  90.170000  \n",
       "KNN                                   653  90.300000  \n",
       "SVM(applying get_dummies)             642  90.520000  \n",
       "KNN(applying get_dummies)             522  90.820000  "
      ]
     },
     "execution_count": 184,
     "metadata": {},
     "output_type": "execute_result"
    }
   ],
   "source": [
    "print(true_positive)\n",
    "true_positive.append(276)\n",
    "true_positive.append(285)\n",
    "true_positive.append(248)\n",
    "true_positive.append(368)\n",
    "\n",
    "true_negative.append(7152)\n",
    "true_negative.append(7159)\n",
    "true_negative.append(7209)\n",
    "true_negative.append(7114)\n",
    "\n",
    "false_positive.append(148)\n",
    "false_positive.append(141)\n",
    "false_positive.append(139)\n",
    "false_positive.append(234)\n",
    "\n",
    "false_negative.append(662)\n",
    "false_negative.append(653)\n",
    "false_negative.append(642)\n",
    "false_negative.append(522)\n",
    "\n",
    "accuracy_vals.append(90.17)\n",
    "accuracy_vals.append(90.3)\n",
    "accuracy_vals.append(90.52)\n",
    "accuracy_vals.append(90.82)\n",
    "\n",
    "table2 = pd.DataFrame({'True positive':true_positive,'True negative':true_negative, 'False Positive':false_positive, 'False Negative': false_negative,'Accuracy':accuracy_vals})\n",
    "table2.rename(index={0:'Decision Trees',1:'Random Forest',2:'Neural Network',3:'SVM',4:'KNN',5:'SVM(applying get_dummies)',6:'KNN(applying get_dummies)'})"
   ]
  },
  {
   "cell_type": "markdown",
   "metadata": {},
   "source": [
    "### Task 7 Data Imbalance Problem - \n",
    "<p> We observe that the data distribution of this data set is imbalanced as the 'no' labels are much higher compared to 'yes' labels (~ ratio of 7:1). This imbalance data can mislead our classifiers to predict the larger class more.</p>\n",
    "<p> This can also be observed from the classfication reports given for all the methods above that the <b>precision, recall and f-score</b> of the class 1('yes') has much lower score which shows that classifiers are not able to predict 'yes' class correctly.</p>"
   ]
  },
  {
   "cell_type": "code",
   "execution_count": 185,
   "metadata": {},
   "outputs": [
    {
     "name": "stdout",
     "output_type": "stream",
     "text": [
      "3668 451\n"
     ]
    }
   ],
   "source": [
    "#check data imbalance\n",
    "count_class_0, count_class_1 = bank_data_cast['y'].value_counts()\n",
    "print(count_class_0, count_class_1)"
   ]
  },
  {
   "cell_type": "markdown",
   "metadata": {},
   "source": [
    "# Question 2 - Data set B\n",
    "This data is the splice junctions on DNA sequences. This dataset has 57 numeric features.\n",
    "\n",
    "## 1. Data loading and Preprocessing"
   ]
  },
  {
   "cell_type": "code",
   "execution_count": 15,
   "metadata": {
    "scrolled": true
   },
   "outputs": [
    {
     "data": {
      "text/html": [
       "<div>\n",
       "<style scoped>\n",
       "    .dataframe tbody tr th:only-of-type {\n",
       "        vertical-align: middle;\n",
       "    }\n",
       "\n",
       "    .dataframe tbody tr th {\n",
       "        vertical-align: top;\n",
       "    }\n",
       "\n",
       "    .dataframe thead th {\n",
       "        text-align: right;\n",
       "    }\n",
       "</style>\n",
       "<table border=\"1\" class=\"dataframe\">\n",
       "  <thead>\n",
       "    <tr style=\"text-align: right;\">\n",
       "      <th></th>\n",
       "      <th>1</th>\n",
       "      <th>2</th>\n",
       "      <th>1.1</th>\n",
       "      <th>2.1</th>\n",
       "      <th>1.2</th>\n",
       "      <th>2.2</th>\n",
       "      <th>3</th>\n",
       "      <th>3.1</th>\n",
       "      <th>3.2</th>\n",
       "      <th>3.3</th>\n",
       "      <th>...</th>\n",
       "      <th>3.8</th>\n",
       "      <th>2.19</th>\n",
       "      <th>3.9</th>\n",
       "      <th>4.6</th>\n",
       "      <th>2.20</th>\n",
       "      <th>2.21</th>\n",
       "      <th>2.22</th>\n",
       "      <th>2.23</th>\n",
       "      <th>1.15</th>\n",
       "      <th>1.16</th>\n",
       "    </tr>\n",
       "  </thead>\n",
       "  <tbody>\n",
       "    <tr>\n",
       "      <th>0</th>\n",
       "      <td>3</td>\n",
       "      <td>3</td>\n",
       "      <td>4</td>\n",
       "      <td>2</td>\n",
       "      <td>1</td>\n",
       "      <td>2</td>\n",
       "      <td>2</td>\n",
       "      <td>4</td>\n",
       "      <td>3</td>\n",
       "      <td>2</td>\n",
       "      <td>...</td>\n",
       "      <td>1</td>\n",
       "      <td>4</td>\n",
       "      <td>3</td>\n",
       "      <td>4</td>\n",
       "      <td>4</td>\n",
       "      <td>4</td>\n",
       "      <td>1</td>\n",
       "      <td>3</td>\n",
       "      <td>4</td>\n",
       "      <td>1</td>\n",
       "    </tr>\n",
       "    <tr>\n",
       "      <th>1</th>\n",
       "      <td>4</td>\n",
       "      <td>1</td>\n",
       "      <td>4</td>\n",
       "      <td>4</td>\n",
       "      <td>4</td>\n",
       "      <td>4</td>\n",
       "      <td>1</td>\n",
       "      <td>1</td>\n",
       "      <td>2</td>\n",
       "      <td>1</td>\n",
       "      <td>...</td>\n",
       "      <td>1</td>\n",
       "      <td>2</td>\n",
       "      <td>1</td>\n",
       "      <td>1</td>\n",
       "      <td>4</td>\n",
       "      <td>2</td>\n",
       "      <td>2</td>\n",
       "      <td>4</td>\n",
       "      <td>4</td>\n",
       "      <td>1</td>\n",
       "    </tr>\n",
       "    <tr>\n",
       "      <th>2</th>\n",
       "      <td>1</td>\n",
       "      <td>4</td>\n",
       "      <td>1</td>\n",
       "      <td>1</td>\n",
       "      <td>3</td>\n",
       "      <td>3</td>\n",
       "      <td>4</td>\n",
       "      <td>4</td>\n",
       "      <td>3</td>\n",
       "      <td>4</td>\n",
       "      <td>...</td>\n",
       "      <td>1</td>\n",
       "      <td>3</td>\n",
       "      <td>3</td>\n",
       "      <td>4</td>\n",
       "      <td>1</td>\n",
       "      <td>3</td>\n",
       "      <td>3</td>\n",
       "      <td>4</td>\n",
       "      <td>2</td>\n",
       "      <td>-1</td>\n",
       "    </tr>\n",
       "    <tr>\n",
       "      <th>3</th>\n",
       "      <td>3</td>\n",
       "      <td>4</td>\n",
       "      <td>4</td>\n",
       "      <td>3</td>\n",
       "      <td>1</td>\n",
       "      <td>1</td>\n",
       "      <td>4</td>\n",
       "      <td>4</td>\n",
       "      <td>4</td>\n",
       "      <td>1</td>\n",
       "      <td>...</td>\n",
       "      <td>3</td>\n",
       "      <td>1</td>\n",
       "      <td>3</td>\n",
       "      <td>2</td>\n",
       "      <td>1</td>\n",
       "      <td>4</td>\n",
       "      <td>2</td>\n",
       "      <td>1</td>\n",
       "      <td>1</td>\n",
       "      <td>-1</td>\n",
       "    </tr>\n",
       "    <tr>\n",
       "      <th>4</th>\n",
       "      <td>3</td>\n",
       "      <td>2</td>\n",
       "      <td>3</td>\n",
       "      <td>1</td>\n",
       "      <td>2</td>\n",
       "      <td>3</td>\n",
       "      <td>4</td>\n",
       "      <td>3</td>\n",
       "      <td>1</td>\n",
       "      <td>4</td>\n",
       "      <td>...</td>\n",
       "      <td>2</td>\n",
       "      <td>2</td>\n",
       "      <td>2</td>\n",
       "      <td>3</td>\n",
       "      <td>4</td>\n",
       "      <td>2</td>\n",
       "      <td>2</td>\n",
       "      <td>2</td>\n",
       "      <td>2</td>\n",
       "      <td>-1</td>\n",
       "    </tr>\n",
       "  </tbody>\n",
       "</table>\n",
       "<p>5 rows × 58 columns</p>\n",
       "</div>"
      ],
      "text/plain": [
       "   1  2  1.1  2.1  1.2  2.2  3  3.1  3.2  3.3  ...   3.8  2.19  3.9  4.6  \\\n",
       "0  3  3    4    2    1    2  2    4    3    2  ...     1     4    3    4   \n",
       "1  4  1    4    4    4    4  1    1    2    1  ...     1     2    1    1   \n",
       "2  1  4    1    1    3    3  4    4    3    4  ...     1     3    3    4   \n",
       "3  3  4    4    3    1    1  4    4    4    1  ...     3     1    3    2   \n",
       "4  3  2    3    1    2    3  4    3    1    4  ...     2     2    2    3   \n",
       "\n",
       "   2.20  2.21  2.22  2.23  1.15  1.16  \n",
       "0     4     4     1     3     4     1  \n",
       "1     4     2     2     4     4     1  \n",
       "2     1     3     3     4     2    -1  \n",
       "3     1     4     2     1     1    -1  \n",
       "4     4     2     2     2     2    -1  \n",
       "\n",
       "[5 rows x 58 columns]"
      ]
     },
     "execution_count": 15,
     "metadata": {},
     "output_type": "execute_result"
    }
   ],
   "source": [
    "#loading and reading the data\n",
    "data_dna=pd.read_csv(\"data/DataDNA.csv\")\n",
    "#print(data_dna.head(20))\n",
    "data_dna.head()"
   ]
  },
  {
   "cell_type": "markdown",
   "metadata": {},
   "source": [
    "### Feature visualisation , understanding using histograms\n",
    "This step is performed to get better understanding of features because no data description is given."
   ]
  },
  {
   "cell_type": "code",
   "execution_count": 4,
   "metadata": {},
   "outputs": [
    {
     "name": "stderr",
     "output_type": "stream",
     "text": [
      "C:\\Windows\\Anaconda3\\lib\\site-packages\\IPython\\core\\interactiveshell.py:3267: UserWarning: To output multiple subplots, the figure containing the passed axes is being cleared\n",
      "  exec(code_obj, self.user_global_ns, self.user_ns)\n"
     ]
    },
    {
     "data": {
      "text/plain": [
       " 1    1136\n",
       "-1    1063\n",
       "Name: 1.16, dtype: int64"
      ]
     },
     "execution_count": 4,
     "metadata": {},
     "output_type": "execute_result"
    },
    {
     "data": {
      "image/png": "[encoded data removed]",
      "text/plain": [
       "<Figure size 1080x1440 with 64 Axes>"
      ]
     },
     "metadata": {
      "needs_background": "light"
     },
     "output_type": "display_data"
    }
   ],
   "source": [
    "#plotting data to know the data better\n",
    "fig = plt.figure(figsize = (15,20))\n",
    "ax = fig.gca()\n",
    "data_dna.iloc[:,:-1].hist(ax = ax)\n",
    "data_dna['1.16'].value_counts()"
   ]
  },
  {
   "cell_type": "markdown",
   "metadata": {},
   "source": [
    "## Task 2.1\n",
    "\n",
    "### Normalize data using z-score normalization\n",
    "<b>Normalization</b> -In general normalization or feature scaling is done because of following reasons:\n",
    "1. To compare different features.\n",
    "2. It prevents the features having larger values to dominate the data and hence the algorithms can give better results with less bias. \n",
    "3. Most machine learning algorithms are based on Euclidean distance(e.g KNN) therefore feature scaling is necessary.\n",
    "4. Algorithms like Decision trees converge faster if normalization in performed.\n",
    "  \n",
    "<b>Z-score Normalisation</b> - This type of normalisation is computed by<br>\n",
    "\n",
    "                                (Feature Value - Mean) / Standard Deviation \n",
    "<p>The data points having value equal to the mean are normalised to 0 and also the data points that are far from the mean (outliers), i.e., having high value of standard deviation also become small value ~ 0. Thus, this normalisation prevents outliers from dominating the data and centers the data around mean.</p>\n",
    "\n",
    "\n",
    "**Why z-score Normalisation is being used here and not min-max normalization?**\n",
    "\n",
    "1. Z-score is beneficial when data distribution is gaussian. After the data visualization using histogram plotting, we took hypothesis that features follows gaussian distribution.\n",
    "2. Z-score is chosen to make the analysis less sensitive to outliers, as min-max normalization is sensitive to outliers.\n",
    "\n",
    "<p>Note: In order to double check our hypothesis we performed that classification task with both Zscore as well as minmax normalization. It is observed that after using minmax normalization instead of zscore normalization accuracy scores got reduced by 1-2%.</p>\n",
    "\n",
    "### Splitting test and training data randomly - \n",
    "<p>The reason we split the the training and testing data randomly is to avoid overfitting. If we fix our training and testing data, then the model will train for a particular set, and will not be able to generalise. Hence, this will result in good performance for a fixed train and test set, but if model is exposed to any new testing data, it might not perform well. Hence, we train the model on a random sample each time so that it generalise.</p>\n",
    "\n",
    "### Data Distribution - \n",
    "From the below results, it can be observed that data set is quite balanced with 51.69% datapoints are labeled as +1 and 48.31% features are labeled -1. \n",
    "\n",
    "\n"
   ]
  },
  {
   "cell_type": "code",
   "execution_count": 5,
   "metadata": {
    "scrolled": true
   },
   "outputs": [
    {
     "data": {
      "text/plain": [
       "array([[<matplotlib.axes._subplots.AxesSubplot object at 0x0000029E73B2EBE0>,\n",
       "        <matplotlib.axes._subplots.AxesSubplot object at 0x0000029E7374E0F0>,\n",
       "        <matplotlib.axes._subplots.AxesSubplot object at 0x0000029E73BE1E48>],\n",
       "       [<matplotlib.axes._subplots.AxesSubplot object at 0x0000029E73BED0F0>,\n",
       "        <matplotlib.axes._subplots.AxesSubplot object at 0x0000029E73C05668>,\n",
       "        <matplotlib.axes._subplots.AxesSubplot object at 0x0000029E73C2EBE0>],\n",
       "       [<matplotlib.axes._subplots.AxesSubplot object at 0x0000029E73C58978>,\n",
       "        <matplotlib.axes._subplots.AxesSubplot object at 0x0000029E73C7FF28>,\n",
       "        <matplotlib.axes._subplots.AxesSubplot object at 0x0000029E73C7FF60>],\n",
       "       [<matplotlib.axes._subplots.AxesSubplot object at 0x0000029E73CD7A20>,\n",
       "        <matplotlib.axes._subplots.AxesSubplot object at 0x0000029E73CFFF98>,\n",
       "        <matplotlib.axes._subplots.AxesSubplot object at 0x0000029E73D2F550>]],\n",
       "      dtype=object)"
      ]
     },
     "execution_count": 5,
     "metadata": {},
     "output_type": "execute_result"
    },
    {
     "data": {
      "image/png": "[encoded data removed]",
      "text/plain": [
       "<Figure size 1080x1440 with 12 Axes>"
      ]
     },
     "metadata": {
      "needs_background": "light"
     },
     "output_type": "display_data"
    }
   ],
   "source": [
    "data_dnazscore=pd.DataFrame(stat.zscore(data_dna),columns=data_dna.columns)\n",
    "data_dnazscore.iloc[:,-1]=data_dna.iloc[:,-1]\n",
    "fig = plt.figure(figsize = (15,20))\n",
    "ax = fig.gca()\n",
    "data_dnazscore.iloc[:,:10].hist(ax=ax)"
   ]
  },
  {
   "cell_type": "markdown",
   "metadata": {},
   "source": []
  },
  {
   "cell_type": "code",
   "execution_count": 6,
   "metadata": {},
   "outputs": [
    {
     "name": "stdout",
     "output_type": "stream",
     "text": [
      "Count of the 2 types of labels(+1 and -1): \n"
     ]
    },
    {
     "data": {
      "text/plain": [
       " 1    1136\n",
       "-1    1063\n",
       "Name: label, dtype: int64"
      ]
     },
     "execution_count": 6,
     "metadata": {},
     "output_type": "execute_result"
    }
   ],
   "source": [
    "## Code to check data distribution\n",
    "dist = data_dnazscore.iloc[:,:-1]\n",
    "dist['label'] = data_dnazscore.iloc[:,-1]\n",
    "print(\"Count of the 2 types of labels(+1 and -1): \")\n",
    "dist['label'].value_counts()"
   ]
  },
  {
   "cell_type": "code",
   "execution_count": 7,
   "metadata": {},
   "outputs": [
    {
     "name": "stdout",
     "output_type": "stream",
     "text": [
      "(1649, 57)\n",
      "(550, 57)\n"
     ]
    }
   ],
   "source": [
    "#default = 25%\n",
    "#dropping feature 2.22 - least important feature - not much effect in accuracy\n",
    "#data_dnazscore = data_dnazscore.drop(\"2.22\", axis=1)\n",
    "x_train_dna,x_test_dna,y_train_dna,y_test_dna=train_test_split(data_dnazscore.iloc[:,:-1],data_dnazscore.iloc[:,-1], random_state=21)\n",
    "print(x_train_dna.shape)\n",
    "print(x_test_dna.shape)"
   ]
  },
  {
   "cell_type": "markdown",
   "metadata": {},
   "source": [
    "## Task2. Parameter Selection\n",
    "### Task 2(a): K-Nearest Neighbour Classifier Implementation"
   ]
  },
  {
   "cell_type": "code",
   "execution_count": 8,
   "metadata": {},
   "outputs": [
    {
     "name": "stdout",
     "output_type": "stream",
     "text": [
      "[0.7367253822216401, 0.7435570384708035, 0.7499155306493412, 0.7467202802982171, 0.7626325103106749, 0.7480828718593118, 0.7440012579892177, 0.7426231540452173, 0.7417130277250681, 0.7421696533932135, 0.74262833579625, 0.7367212969263084, 0.735356620455872, 0.7312739664789779, 0.7294278755196426, 0.7307925472943371]\n"
     ]
    },
    {
     "data": {
      "text/plain": [
       "Text(0, 0.5, 'Accuracy')"
      ]
     },
     "execution_count": 8,
     "metadata": {},
     "output_type": "execute_result"
    },
    {
     "data": {
      "image/png": "[encoded data removed]",
      "text/plain": [
       "<Figure size 432x288 with 1 Axes>"
      ]
     },
     "metadata": {
      "needs_background": "light"
     },
     "output_type": "display_data"
    }
   ],
   "source": [
    "from sklearn.model_selection import cross_val_score\n",
    "k = 1\n",
    "k_val = []\n",
    "final_accuracy = []\n",
    "for i in range(1,17):\n",
    "    k_val.append(k)\n",
    "    knn = KNeighborsClassifier(n_neighbors=k)\n",
    "    scores = cross_val_score(knn, data_dnazscore.iloc[:,:-1], data_dnazscore.iloc[:,-1], cv=5)\n",
    "    final_accuracy.append(scores.mean())\n",
    "    k = k + 2\n",
    "\n",
    "print(final_accuracy)\n",
    "plt.plot(k_val,final_accuracy)\n",
    "plt.title('Classification accuracy of K-NN for different K')\n",
    "plt.xlabel('K')\n",
    "plt.ylabel('Accuracy')"
   ]
  },
  {
   "cell_type": "markdown",
   "metadata": {},
   "source": [
    "### Task 2(a): Results and Reasoning\n",
    "From the above plot, it can be observed that from different values of K = 1, 3, 5, 7,...31, the accuracy of our algorithm is highest at K = 9 , at which the accuracy is ~ 76%.\n",
    "\n",
    "<b>Reason for chosing cross-validation instead of directly evaluating on the test set-</b>\n",
    "\n",
    "To answer in one sentence; this was done **to avoid overfitting problem**. Given below is the detailed explanation of the reason:\n",
    "<p>When we tune any hyperparameters based on improving performance on a fixed test set, that might work well for that particular set and fail on any other new test data. That leads to overfitting for a particular set of data.\n",
    "In our case, we wanted to tune value of K hyperparameter for the K- nearest neighbours, therefore, one value of K might give higher accuracy for a fixed test set, while give a low accuracy on another test set. Therefore, by using 5 cross validation, we divide our training set into 5 folds, in which our model trains for 4 folds and tests on 1 fold. This happens in rotation for all folds and test accuracy is computed as average across folds. This gives a better value for our hyperparameters that do not just work well for a single set of test data(overfitting) but for different test data.</p>"
   ]
  },
  {
   "cell_type": "markdown",
   "metadata": {},
   "source": [
    "### Task 2b.) SVM(RBF Kernel) Implementation and Parameter Searching"
   ]
  },
  {
   "cell_type": "code",
   "execution_count": 9,
   "metadata": {
    "scrolled": true
   },
   "outputs": [
    {
     "data": {
      "image/png": "[encoded data removed]",
      "text/plain": [
       "<Figure size 432x288 with 1 Axes>"
      ]
     },
     "metadata": {
      "needs_background": "light"
     },
     "output_type": "display_data"
    },
    {
     "data": {
      "image/png": "[encoded data removed]",
      "text/plain": [
       "<Figure size 432x288 with 1 Axes>"
      ]
     },
     "metadata": {
      "needs_background": "light"
     },
     "output_type": "display_data"
    },
    {
     "name": "stdout",
     "output_type": "stream",
     "text": [
      "Accuracy_Sigma [0.9036226262438433, 0.8817940480534038, 0.6962366447234654, 0.619826288077183, 0.6139140862391758, 0.6002694252271212, 0.5907198055587252, 0.5907198055587252]\n",
      "Accuracy_X [0.8595057520488695, 0.8877010822276035, 0.8977062874573452, 0.9040709733192648, 0.9040730394456397, 0.905437711220334, 0.905437711220334, 0.905437711220334]\n"
     ]
    }
   ],
   "source": [
    "from sklearn.svm import SVC  \n",
    "import operator\n",
    "c_param = [0.1, 0.5, 1, 2, 5, 10, 20, 50]\n",
    "sigma = [0.01, 0.05, 0.1, 0.5, 1, 2, 5, 10] \n",
    "accuracy_C = []\n",
    "accuracy_SIGMA = []\n",
    "#finding the best values for c and sigma in terms of accuracy\n",
    "for i in c_param:\n",
    "    svclassifier_C = SVC(kernel='rbf', C=i, gamma='auto')\n",
    "    scores = cross_val_score(svclassifier_C, data_dnazscore.iloc[:,:-1], data_dnazscore.iloc[:,-1], cv=5)\n",
    "    accuracy_C.append(scores.mean())\n",
    "# plt.fig()\n",
    "plt.plot(c_param,accuracy_C)\n",
    "plt.xlabel('c_par(Soft Margin Penalty)')\n",
    "plt.ylabel('Accuracy')\n",
    "plt.show()\n",
    "index_c, value_c = max(enumerate(accuracy_C), key=operator.itemgetter(1))\n",
    "C_best = c_param[index_c]\n",
    "#using C for which we get the highest accuracy and finding best sigma\n",
    "for j in sigma:\n",
    "    svclassifier_SIG = SVC(kernel='rbf', C=C_best, gamma=j)\n",
    "    scores = cross_val_score(svclassifier_SIG, data_dnazscore.iloc[:,:-1], data_dnazscore.iloc[:,-1], cv=5)\n",
    "    accuracy_SIGMA.append(scores.mean())\n",
    "# print(accuracy_SIGMA)\n",
    "index_s, value_s = max(enumerate(accuracy_SIGMA), key=operator.itemgetter(1))\n",
    "sigma_best = sigma[index_s]\n",
    "# plt.fig()\n",
    "plt.plot(sigma,accuracy_SIGMA)\n",
    "plt.xlabel('sigma(Kernel Width)')\n",
    "plt.ylabel('Accuracy')\n",
    "plt.show()\n",
    "print(\"Accuracy_Sigma\",accuracy_SIGMA)\n",
    "print(\"Accuracy_X\",accuracy_C)"
   ]
  },
  {
   "cell_type": "markdown",
   "metadata": {},
   "source": [
    "### Task 2(b) ROC Curves\n",
    "For plotting the Receiver Operating Characteristic(ROC) curve, we are using the roc_curve method of the scikit learn library."
   ]
  },
  {
   "cell_type": "code",
   "execution_count": 20,
   "metadata": {},
   "outputs": [
    {
     "name": "stdout",
     "output_type": "stream",
     "text": [
      "[[2.90966545e-01 7.09033455e-01]\n",
      " [5.78936585e-01 4.21063415e-01]\n",
      " [1.78386767e-06 9.99998216e-01]\n",
      " ...\n",
      " [9.66443394e-01 3.35566056e-02]\n",
      " [2.52263844e-02 9.74773616e-01]\n",
      " [3.64342636e-03 9.96356574e-01]]\n"
     ]
    },
    {
     "data": {
      "image/png": "[encoded data removed]",
      "text/plain": [
       "<Figure size 864x360 with 1 Axes>"
      ]
     },
     "metadata": {
      "needs_background": "light"
     },
     "output_type": "display_data"
    }
   ],
   "source": [
    "#plotting ROC curves for few combinations of C and sigma values to verify that \n",
    "#Using C and sigma giving the best results\n",
    "from sklearn.metrics import roc_curve\n",
    "classifier = SVC(kernel='rbf', C=C_best, gamma=sigma_best, probability=True)\n",
    "classifier.fit(x_train_dna,y_train_dna)\n",
    "y_probas = classifier.predict_proba(x_test_dna)\n",
    "f, ax = plt.subplots(figsize=(12,5))\n",
    "print(y_probas)\n",
    "fpr, tpr, thresholds = roc_curve(y_test_dna, y_probas[:,1])\n",
    "\n",
    "classifier2 = SVC(kernel='rbf', C=0.5, gamma=0.01, probability=True)\n",
    "classifier2.fit(x_train_dna,y_train_dna)\n",
    "y_probas2 = classifier2.predict_proba(x_test_dna)\n",
    "fpr1, tpr1, thresholds1 = roc_curve(y_test_dna, y_probas2[:,1])\n",
    "\n",
    "classifier3 = SVC(kernel='rbf', C=5, gamma=5, probability=True)\n",
    "classifier3.fit(x_train_dna,y_train_dna)\n",
    "y_probas3 = classifier3.predict_proba(x_test_dna)\n",
    "fpr2, tpr2, thresholds2 = roc_curve(y_test_dna, y_probas3[:,1])\n",
    "\n",
    "classifier4 = SVC(kernel='rbf', C=10, gamma=0.05, probability=True)\n",
    "classifier4.fit(x_train_dna,y_train_dna)\n",
    "y_probas4 = classifier4.predict_proba(x_test_dna)\n",
    "fpr3, tpr3, thresholds3 = roc_curve(y_test_dna, y_probas4[:,1])\n",
    "\n",
    "classifier5 = SVC(kernel='rbf', C=20, gamma=0.5, probability=True)\n",
    "classifier5.fit(x_train_dna,y_train_dna)\n",
    "y_probas5 = classifier5.predict_proba(x_test_dna)\n",
    "fpr4, tpr4, thresholds4 = roc_curve(y_test_dna, y_probas5[:,1])\n",
    "\n",
    "# plot no skill\n",
    "plt.title('ROC curve for the best values of C and Gamma')\n",
    "plt.xlabel('False Positive Rate')\n",
    "plt.ylabel('True Positive Rate')\n",
    "plt.plot([0, 1], [0, 1], linestyle='--')\n",
    "# plot the roc curve for the model\n",
    "plt.plot(fpr, tpr, marker='.', label='ROC at C=%.1f and sigma=%.2f'%(C_best,sigma_best))\n",
    "plt.plot(fpr1, tpr1, color='r',label='ROC at C=0.5 and sigma=0.01')\n",
    "plt.plot(fpr2, tpr2, color='c',label='ROC at C=5 and sigma=5')\n",
    "plt.plot(fpr3, tpr3, color='g',label='ROC at C=10 and sigma=0.05')\n",
    "plt.plot(fpr4, tpr4, color='b',label='ROC at C=20 and sigma=0.05')\n",
    "# show the plot\n",
    "plt.legend()\n",
    "plt.show()\n"
   ]
  },
  {
   "cell_type": "markdown",
   "metadata": {},
   "source": [
    "### Task 2(b) Results\n",
    "<p>From the above plots, it can be seen that the false positive rate is minimum at <b>C=10 and sigma=0.01</b>. This verifies our result from cross validation above, where we got maximum cross validation score/accuracy for C=10 and sigma=0.01. </p>"
   ]
  },
  {
   "cell_type": "markdown",
   "metadata": {},
   "source": [
    "## Task 3. Train six Classifiers and Report Results\n",
    "\n",
    "### Task 3a. Classify the test set using k-NN, SVM, Random Forests and Neural Networks. \n",
    "\n",
    "**Classifier 1- KNN - Using neighbour = 9 as it gives best accuracy with k-fold cross validation (Refer Ques 2)**"
   ]
  },
  {
   "cell_type": "code",
   "execution_count": 31,
   "metadata": {},
   "outputs": [
    {
     "name": "stdout",
     "output_type": "stream",
     "text": [
      "Accuracy Score and Classification Report for KNN Classifier: 0.7563636363636363\n",
      "              precision    recall  f1-score   support\n",
      "\n",
      "          -1       0.67      0.97      0.79       260\n",
      "           1       0.95      0.57      0.71       290\n",
      "\n",
      "   micro avg       0.76      0.76      0.76       550\n",
      "   macro avg       0.81      0.77      0.75       550\n",
      "weighted avg       0.82      0.76      0.75       550\n",
      "\n"
     ]
    }
   ],
   "source": [
    "knn = KNeighborsClassifier(n_neighbors=9)\n",
    "knn.fit(x_train_dna, y_train_dna)\n",
    "y_knn_pred=knn.predict(x_test_dna)\n",
    "print(\"Accuracy Score for KNN Classifier:\",accuracy_score(y_test_dna,y_knn_pred))\n",
    "print(\"Classification Report:\\n\"classification_report(y_test_dna,y_knn_pred))\n"
   ]
  },
  {
   "cell_type": "markdown",
   "metadata": {},
   "source": [
    "**Classifier 2. SVM - Using C = 10 and gamma = 0.01  (Refer Ques 2)**\n"
   ]
  },
  {
   "cell_type": "code",
   "execution_count": 47,
   "metadata": {},
   "outputs": [
    {
     "name": "stdout",
     "output_type": "stream",
     "text": [
      "Accuracy Score for SVM Classifier: 0.9072727272727272\n",
      "Classification Report:\n",
      "               precision    recall  f1-score   support\n",
      "\n",
      "          -1       0.88      0.93      0.90       260\n",
      "           1       0.93      0.89      0.91       290\n",
      "\n",
      "   micro avg       0.91      0.91      0.91       550\n",
      "   macro avg       0.91      0.91      0.91       550\n",
      "weighted avg       0.91      0.91      0.91       550\n",
      "\n"
     ]
    }
   ],
   "source": [
    "svc = SVC(kernel='rbf', C=10, gamma=0.01)\n",
    "svc.fit(x_train_dna, y_train_dna)\n",
    "y_svc_pred = svc.predict(x_test_dna)\n",
    "print(\"Accuracy Score for SVM Classifier:\",accuracy_score(y_test_dna,y_svc_pred))\n",
    "print(\"Classification Report:\\n\",classification_report(y_test_dna,y_svc_pred))"
   ]
  },
  {
   "cell_type": "markdown",
   "metadata": {},
   "source": [
    "**Classifier 3. Random Forest with default parameters**"
   ]
  },
  {
   "cell_type": "code",
   "execution_count": 49,
   "metadata": {},
   "outputs": [
    {
     "name": "stdout",
     "output_type": "stream",
     "text": [
      "Accuracy Score for RF Classifier: 0.9418181818181818\n",
      "              precision    recall  f1-score   support\n",
      "\n",
      "          -1       0.90      0.98      0.94       260\n",
      "           1       0.98      0.91      0.94       290\n",
      "\n",
      "   micro avg       0.94      0.94      0.94       550\n",
      "   macro avg       0.94      0.94      0.94       550\n",
      "weighted avg       0.94      0.94      0.94       550\n",
      "\n"
     ]
    },
    {
     "name": "stderr",
     "output_type": "stream",
     "text": [
      "C:\\Users\\jatin\\Anaconda3\\lib\\site-packages\\sklearn\\ensemble\\forest.py:246: FutureWarning: The default value of n_estimators will change from 10 in version 0.20 to 100 in 0.22.\n",
      "  \"10 in version 0.20 to 100 in 0.22.\", FutureWarning)\n"
     ]
    }
   ],
   "source": [
    "RF_dna=RandomForestClassifier()\n",
    "RF_dna.fit(x_train_dna,y_train_dna)\n",
    "y_rfdna_pred=RF_dna.predict(x_test_dna)\n",
    "print(\"Accuracy Score for RF Classifier:\",accuracy_score(y_test_dna,y_rfdna_pred))\n",
    "print(classification_report(y_test_dna,y_rfdna_pred))"
   ]
  },
  {
   "cell_type": "markdown",
   "metadata": {},
   "source": [
    "**Classifier 4. Neural Network with default parameters**"
   ]
  },
  {
   "cell_type": "code",
   "execution_count": 53,
   "metadata": {},
   "outputs": [
    {
     "name": "stdout",
     "output_type": "stream",
     "text": [
      "Accuracy Score for Neural Network: 0.9018181818181819\n",
      "              precision    recall  f1-score   support\n",
      "\n",
      "          -1       0.88      0.92      0.90       260\n",
      "           1       0.93      0.88      0.90       290\n",
      "\n",
      "   micro avg       0.90      0.90      0.90       550\n",
      "   macro avg       0.90      0.90      0.90       550\n",
      "weighted avg       0.90      0.90      0.90       550\n",
      "\n"
     ]
    }
   ],
   "source": [
    "NN_dna=MLPClassifier()\n",
    "NN_dna.fit(x_train_dna,y_train_dna)\n",
    "y_nndna_pred=NN_dna.predict(x_test_dna)\n",
    "print(\"Accuracy Score for Neural Network:\",accuracy_score(y_test_dna,y_nndna_pred))\n",
    "print(classification_report(y_test_dna,y_nndna_pred))"
   ]
  },
  {
   "cell_type": "markdown",
   "metadata": {},
   "source": [
    "### Task 3(a) Results:\n",
    "From above results, it can be concluded that Random Forests outperform all other models by giving more than 94% accuracy and F1 score. "
   ]
  },
  {
   "cell_type": "markdown",
   "metadata": {},
   "source": [
    "### Task 3 b.) Customized Classifiers after hyper parameter search for RF and NN\n",
    "**Classifier5. Random Forest Parameter Changes.**\n",
    "\n",
    "Important parameters for this algorithm are : \n",
    "- n_estimators - number of decision trees in the forest \n",
    "- max_features -  the number of features considered by each tree when splitting a node.\n",
    "- max_depth - max number of levels in each decision tree\n",
    "- min_samples_split - min number of data points placed in a node before the node is split\n",
    "- min_samples_leaf - min number of data points allowed in a leaf node\n",
    "- bootstrap - method for sampling data points (with or without replacement)\n",
    "\n",
    " Here, we are using Scikit-Learn RandomizedSearchCV method. First we define a grid of hyperparameter ranges, and then randomly sample from the grid, performing 3-Fold cross validation with each combination of values."
   ]
  },
  {
   "cell_type": "code",
   "execution_count": 60,
   "metadata": {},
   "outputs": [
    {
     "name": "stdout",
     "output_type": "stream",
     "text": [
      "{'bootstrap': True, 'class_weight': None, 'criterion': 'gini', 'max_depth': None, 'max_features': 'auto', 'max_leaf_nodes': None, 'min_impurity_decrease': 0.0, 'min_impurity_split': None, 'min_samples_leaf': 1, 'min_samples_split': 2, 'min_weight_fraction_leaf': 0.0, 'n_estimators': 'warn', 'n_jobs': None, 'oob_score': False, 'random_state': None, 'verbose': 0, 'warm_start': False}\n",
      "Fitting 6 folds for each of 50 candidates, totalling 300 fits\n"
     ]
    },
    {
     "name": "stderr",
     "output_type": "stream",
     "text": [
      "[Parallel(n_jobs=-1)]: Using backend LokyBackend with 4 concurrent workers.\n",
      "[Parallel(n_jobs=-1)]: Done  33 tasks      | elapsed:    8.3s\n",
      "[Parallel(n_jobs=-1)]: Done 154 tasks      | elapsed:   41.8s\n",
      "[Parallel(n_jobs=-1)]: Done 300 out of 300 | elapsed:  1.4min finished\n"
     ]
    },
    {
     "name": "stdout",
     "output_type": "stream",
     "text": [
      "Best Features:\n",
      " {'n_estimators': 300, 'min_samples_split': 5, 'min_samples_leaf': 2, 'max_features': 'sqrt', 'max_depth': 60, 'bootstrap': True}\n",
      "Classifier 5 Accuracy: 0.9636363636363636\n",
      "              precision    recall  f1-score   support\n",
      "\n",
      "          -1       0.93      0.99      0.96       260\n",
      "           1       0.99      0.94      0.96       290\n",
      "\n",
      "   micro avg       0.96      0.96      0.96       550\n",
      "   macro avg       0.96      0.97      0.96       550\n",
      "weighted avg       0.97      0.96      0.96       550\n",
      "\n"
     ]
    }
   ],
   "source": [
    "from sklearn.model_selection import RandomizedSearchCV\n",
    "param_grid = {\n",
    "    'bootstrap': [True],\n",
    "    'max_depth': [30,50,60,80, 90, 100, 110],\n",
    "    'max_features': ['auto', 'sqrt'],\n",
    "    'min_samples_leaf': [1, 2, 4,6,8],\n",
    "    'min_samples_split': [2, 5,10,30,40],\n",
    "    'n_estimators': [100, 200, 300,500]\n",
    "}\n",
    "\n",
    "RF_dna=RandomForestClassifier()\n",
    "print(RF_dna.get_params())\n",
    "\n",
    "# Instantiate the grid search model\n",
    "rf_random = RandomizedSearchCV(estimator = RF_dna, param_distributions = param_grid, n_iter = 50, cv = 6, verbose=2, random_state=42, n_jobs = -1)\n",
    "\n",
    "# Fit the grid search to the data\n",
    "rf_random.fit(x_train_dna, y_train_dna)\n",
    "print(\"Best Features:\\n\",rf_random.best_params_)\n",
    "\n",
    "RF_best_model = rf_random.best_estimator_\n",
    "#RF_best_model.fit(x_train_dna,y_train_dna)\n",
    "y_rfdna_pred=RF_best_model.predict(x_test_dna)\n",
    "print(\"Classifier 5(RF) Accuracy:\",accuracy_score(y_test_dna,y_rfdna_pred))\n",
    "print(classification_report(y_test_dna,y_rfdna_pred))"
   ]
  },
  {
   "cell_type": "markdown",
   "metadata": {},
   "source": [
    "### Classifier 5 Results:\n",
    "Note that as we are doing randomized search, results may change after every run of the code. Given  below is one of the instance of best results we achieved:\n",
    "\n",
    "Best Features:\n",
    " {'n_estimators': 300, 'min_samples_split': 5, 'min_samples_leaf': 2, 'max_features': 'sqrt', 'max_depth': 60, 'bootstrap': True}\n",
    " \n",
    "Classifier 5 Accuracy: 0.9636363636363636\n",
    "              precision    recall  f1-score   support\n",
    "\n",
    "          -1       0.93      0.99      0.96       260\n",
    "           1       0.99      0.94      0.96       290\n",
    "\n",
    "   micro avg       0.96      0.96      0.96       550\n",
    "   macro avg       0.96      0.97      0.96       550\n",
    "weighted avg       0.97      0.96      0.96       550\n"
   ]
  },
  {
   "cell_type": "markdown",
   "metadata": {},
   "source": [
    "**Classifier6. Neural Network along with Parameter Search.**"
   ]
  },
  {
   "cell_type": "code",
   "execution_count": 65,
   "metadata": {},
   "outputs": [
    {
     "name": "stdout",
     "output_type": "stream",
     "text": [
      "{'activation': 'relu', 'alpha': 0.0001, 'batch_size': 'auto', 'beta_1': 0.9, 'beta_2': 0.999, 'early_stopping': False, 'epsilon': 1e-08, 'hidden_layer_sizes': (100,), 'learning_rate': 'constant', 'learning_rate_init': 0.001, 'max_iter': 200, 'momentum': 0.9, 'n_iter_no_change': 10, 'nesterovs_momentum': True, 'power_t': 0.5, 'random_state': None, 'shuffle': True, 'solver': 'adam', 'tol': 0.0001, 'validation_fraction': 0.1, 'verbose': False, 'warm_start': False}\n",
      "Fitting 3 folds for each of 50 candidates, totalling 150 fits\n"
     ]
    },
    {
     "name": "stderr",
     "output_type": "stream",
     "text": [
      "[Parallel(n_jobs=-1)]: Using backend LokyBackend with 4 concurrent workers.\n",
      "[Parallel(n_jobs=-1)]: Done  33 tasks      | elapsed:    7.6s\n",
      "[Parallel(n_jobs=-1)]: Done 150 out of 150 | elapsed:   49.6s finished\n"
     ]
    },
    {
     "name": "stdout",
     "output_type": "stream",
     "text": [
      "{'solver': 'adam', 'learning_rate_init': 0.01, 'hidden_layer_sizes': (50, 50), 'batch_size': 300, 'activation': 'relu'}\n",
      "              precision    recall  f1-score   support\n",
      "\n",
      "          -1       0.88      0.94      0.91       260\n",
      "           1       0.94      0.89      0.91       290\n",
      "\n",
      "   micro avg       0.91      0.91      0.91       550\n",
      "   macro avg       0.91      0.91      0.91       550\n",
      "weighted avg       0.91      0.91      0.91       550\n",
      "\n",
      "Classifier 6(NN) Accuracy: 0.9127272727272727\n"
     ]
    }
   ],
   "source": [
    "param_grid_nn = {\n",
    "    'hidden_layer_sizes' : [(10,10),(30,30),(50,50),(10,10,10),(20,20,20),(30,30,30),(50,50,50),(60,60,60),(100,100,100)],\n",
    "    'activation': ['identity', 'logistic', 'tanh', 'relu'],\n",
    "    'solver': ['sgd', 'adam'],\n",
    "    'batch_size': [50,100,200, 300, 400],\n",
    "    'learning_rate_init': [0.001,0.01,0.1,0.5,1]\n",
    "}\n",
    "NN_dna=MLPClassifier()\n",
    "print(NN_dna.get_params())\n",
    "NN_random = RandomizedSearchCV(estimator = NN_dna, param_distributions = param_grid_nn, n_iter = 50, cv = 3, verbose=2, random_state=42, n_jobs = -1)\n",
    "NN_random.fit(x_train_dna, y_train_dna)\n",
    "\n",
    "print(NN_random.best_params_)\n",
    "NN_best_model = NN_random.best_estimator_\n",
    "y_nn_pred=NN_best_model.predict(x_test_dna)\n",
    "print(classification_report(y_test_dna,y_nn_pred))\n",
    "print(\"Classifier 6(NN) Accuracy:\",accuracy_score(y_test_dna,y_nn_pred))"
   ]
  },
  {
   "cell_type": "markdown",
   "metadata": {},
   "source": [
    "**Classifier 6 Results**\n",
    "Note that as we are doing randomized search, results may change after every run of the code. Given below is one of the instance of best results we achieved:\n",
    "\n",
    "{'solver': 'adam', 'learning_rate_init': 0.01, 'hidden_layer_sizes': (50, 50), 'batch_size': 300, 'activation': 'relu'}\n",
    "\n",
    "              precision    recall  f1-score   support\n",
    "\n",
    "          -1       0.88      0.94      0.91       260\n",
    "           1       0.94      0.89      0.91       290\n",
    "\n",
    "   micro avg       0.91      0.91      0.91       550\n",
    "   macro avg       0.91      0.91      0.91       550\n",
    "weighted avg       0.91      0.91      0.91       550\n",
    "\n",
    "Classifier 6(NN) Accuracy: 0.9127272727272727"
   ]
  },
  {
   "cell_type": "markdown",
   "metadata": {},
   "source": [
    "### Task 3c.) Classification using k-fold cross validation "
   ]
  },
  {
   "cell_type": "code",
   "execution_count": 69,
   "metadata": {},
   "outputs": [
    {
     "name": "stderr",
     "output_type": "stream",
     "text": [
      "C:\\Users\\jatin\\Anaconda3\\lib\\site-packages\\sklearn\\ensemble\\forest.py:246: FutureWarning: The default value of n_estimators will change from 10 in version 0.20 to 100 in 0.22.\n",
      "  \"10 in version 0.20 to 100 in 0.22.\", FutureWarning)\n"
     ]
    }
   ],
   "source": [
    "from sklearn.model_selection import RepeatedKFold\n",
    "from sklearn.metrics import accuracy_score\n",
    "import time\n",
    "\n",
    "k_fold = [4,5,6,7]\n",
    "X = data_dnazscore.iloc[:,:-1]\n",
    "y = data_dnazscore.iloc[:,-1]\n",
    "classification_reports_knn = []\n",
    "classification_reports_svm = []\n",
    "classification_reports_rf = []\n",
    "classification_reports_nn = []\n",
    "classification_reports_rf2 = []\n",
    "classification_reports_nn2 = []\n",
    "acc_knn = []\n",
    "acc_svm = []\n",
    "acc_rf = []\n",
    "acc_nn = []\n",
    "acc_rf2 = []\n",
    "acc_nn2 = []\n",
    "\n",
    "for k in k_fold:\n",
    "    rkf = RepeatedKFold(n_splits=k, n_repeats=20, random_state=2652124)\n",
    "    for train_index, test_index in rkf.split(X):\n",
    "        #print(\"TRAIN:\", train_index, \"TEST:\", test_index)\n",
    "        X_train, X_test = X.iloc[train_index], X.iloc[test_index]\n",
    "        y_train, y_test = y.iloc[train_index], y.iloc[test_index]\n",
    "        # Classification Method 1\n",
    "        start_train_knn = time.time()\n",
    "        knn.fit(X_train,y_train)\n",
    "        end_train_knn = time.time()\n",
    "        train_knn = end_train_knn - start_train_knn\n",
    "        \n",
    "        start_classify_knn = time.time()\n",
    "        y_knn_pred = knn.predict(X_test)\n",
    "        end_classify_knn = time.time()\n",
    "        classify_knn = end_classify_knn - start_classify_knn\n",
    "        \n",
    "        classification_reports_knn.append(classification_report(y_test,y_knn_pred,output_dict=True)) \n",
    "        acc_knn.append(accuracy_score(y_test,y_knn_pred))\n",
    "        \n",
    "        \n",
    "        #Classification Method 2\n",
    "        start_train_svm = time.time()\n",
    "        svc.fit(X_train,y_train)\n",
    "        end_train_svm = time.time()\n",
    "        train_svm = end_train_svm - start_train_svm\n",
    "        \n",
    "        start_classify_svm = time.time()\n",
    "        y_svm_pred = svc.predict(X_test)\n",
    "        end_classify_svm = time.time()\n",
    "        classify_svm = end_classify_svm - start_classify_svm\n",
    "        \n",
    "        classification_reports_svm.append(classification_report(y_test,y_svm_pred,output_dict=True))\n",
    "        acc_svm.append(accuracy_score(y_test,y_svm_pred))\n",
    "        \n",
    "        #Classification Method 3\n",
    "        start_train_rf = time.time()\n",
    "        RF_dna.fit(X_train,y_train)\n",
    "        end_train_rf = time.time()\n",
    "        train_rf = end_train_rf - start_train_rf\n",
    "        \n",
    "        start_classify_rf = time.time()\n",
    "        y_rf_pred=RF_dna.predict(X_test)\n",
    "        end_classify_rf = time.time()\n",
    "        classify_rf = end_classify_rf - start_classify_rf\n",
    "        \n",
    "        classification_reports_rf.append(classification_report(y_test,y_rf_pred,output_dict=True))\n",
    "        acc_rf.append(accuracy_score(y_test,y_rf_pred))\n",
    "       \n",
    "        #Classification Method 4\n",
    "        start_train_nn = time.time()\n",
    "        NN_dna.fit(X_train,y_train)\n",
    "        end_train_nn = time.time()\n",
    "        train_nn = end_train_nn - start_train_nn\n",
    "        \n",
    "        start_classify_nn = time.time()\n",
    "        y_nn_pred=NN_dna.predict(X_test)\n",
    "        end_classify_nn = time.time()\n",
    "        classify_nn = end_classify_nn - start_classify_nn\n",
    "        \n",
    "        classification_reports_nn.append(classification_report(y_test,y_nn_pred,output_dict=True))\n",
    "        acc_nn.append(accuracy_score(y_test,y_nn_pred))\n",
    "        \n",
    "        #Classification Method 5\n",
    "        RF_best_model = RandomForestClassifier(n_estimators=200, min_samples_split=5, min_samples_leaf=1, max_depth = 80, bootstrap = True)\n",
    "        start_train_rf2 = time.time()\n",
    "        RF_best_model.fit(X_train,y_train)\n",
    "        end_train_rf2 = time.time()\n",
    "        train_rf2 = end_train_rf2 - start_train_rf2\n",
    "        \n",
    "        start_classify_rf2 = time.time()\n",
    "        y_rf2_pred=RF_best_model.predict(X_test)\n",
    "        end_classify_rf2 = time.time()\n",
    "        classify_rf2 = end_classify_rf2 - start_classify_rf2\n",
    "        \n",
    "        classification_reports_rf2.append(classification_report(y_test,y_rf2_pred,output_dict=True))\n",
    "        acc_rf2.append(accuracy_score(y_test,y_rf2_pred))\n",
    "        \n",
    "         #Classification Method 6\n",
    "        NN_best_model = MLPClassifier(solver= 'sgd', learning_rate_init= 0.1, hidden_layer_sizes= (100, 50, 10), batch_size= 300, activation= 'relu')\n",
    "        start_train_nn2 = time.time()\n",
    "        NN_best_model.fit(X_train,y_train)\n",
    "        end_train_nn2 = time.time()\n",
    "        train_nn2 = end_train_nn2 - start_train_nn2\n",
    "        \n",
    "        start_classify_nn2 = time.time()\n",
    "        y_nn2_pred=NN_best_model.predict(X_test)\n",
    "        end_classify_nn2 = time.time()\n",
    "        classify_nn2 = end_classify_nn2 - start_classify_nn2\n",
    "        \n",
    "        classification_reports_nn2.append(classification_report(y_test,y_nn2_pred,output_dict=True))\n",
    "        acc_nn2.append(accuracy_score(y_test,y_nn2_pred))\n"
   ]
  },
  {
   "cell_type": "code",
   "execution_count": 70,
   "metadata": {},
   "outputs": [
    {
     "name": "stdout",
     "output_type": "stream",
     "text": [
      "{'-1': {'precision': 0.6725, 'recall': 0.9746376811594203, 'f1-score': 0.7958579881656805, 'support': 276}, '1': {'precision': 0.9533333333333334, 'recall': 0.5218978102189781, 'f1-score': 0.6745283018867925, 'support': 274}, 'micro avg': {'precision': 0.7490909090909091, 'recall': 0.7490909090909091, 'f1-score': 0.7490909090909091, 'support': 550}, 'macro avg': {'precision': 0.8129166666666667, 'recall': 0.7482677456891992, 'f1-score': 0.7351931450262366, 'support': 550}, 'weighted avg': {'precision': 0.8124060606060607, 'recall': 0.7490909090909091, 'f1-score': 0.7354137444558344, 'support': 550}}\n"
     ]
    }
   ],
   "source": [
    "print(classification_reports_knn[0])"
   ]
  },
  {
   "cell_type": "code",
   "execution_count": 71,
   "metadata": {},
   "outputs": [
    {
     "name": "stdout",
     "output_type": "stream",
     "text": [
      "[0.8160567809212013, 0.9079322068835365, 0.9371760864184594, 0.9097631858503904, 0.9691515568920573, 0.9034319326716734]\n",
      "[0.8160567809212013, 0.9066844767061126, 0.9346062717708641, 0.9084391016831039, 0.9686192475601487, 0.9024231401311171]\n",
      "[0.8160567809212013, 0.9067121265669993, 0.9346184452958279, 0.9084694050064263, 0.9686333258957938, 0.9024581509529433]\n",
      "[0.8160567809212013, 0.9066844767061126, 0.9346062717708641, 0.9084391016831039, 0.9686192475601487, 0.9024231401311171]\n",
      "STD abbreviation used for Standard Deviation\n"
     ]
    },
    {
     "data": {
      "text/html": [
       "<div>\n",
       "<style scoped>\n",
       "    .dataframe tbody tr th:only-of-type {\n",
       "        vertical-align: middle;\n",
       "    }\n",
       "\n",
       "    .dataframe tbody tr th {\n",
       "        vertical-align: top;\n",
       "    }\n",
       "\n",
       "    .dataframe thead th {\n",
       "        text-align: right;\n",
       "    }\n",
       "</style>\n",
       "<table border=\"1\" class=\"dataframe\">\n",
       "  <thead>\n",
       "    <tr style=\"text-align: right;\">\n",
       "      <th></th>\n",
       "      <th>Precision</th>\n",
       "      <th>STD Precision</th>\n",
       "      <th>Recall</th>\n",
       "      <th>STD-Recall</th>\n",
       "      <th>F1-Score</th>\n",
       "      <th>SDev-F1</th>\n",
       "      <th>Accuracy</th>\n",
       "      <th>SDec-Accuracy</th>\n",
       "      <th>Training Time(s)</th>\n",
       "      <th>Classification Time(s)</th>\n",
       "    </tr>\n",
       "  </thead>\n",
       "  <tbody>\n",
       "    <tr>\n",
       "      <th>K-Nearest Neighbour</th>\n",
       "      <td>0.816057</td>\n",
       "      <td>0.015895</td>\n",
       "      <td>0.816057</td>\n",
       "      <td>0.023981</td>\n",
       "      <td>0.816057</td>\n",
       "      <td>0.025940</td>\n",
       "      <td>0.816057</td>\n",
       "      <td>0.023981</td>\n",
       "      <td>0.009996</td>\n",
       "      <td>0.086951</td>\n",
       "    </tr>\n",
       "    <tr>\n",
       "      <th>SVM</th>\n",
       "      <td>0.907932</td>\n",
       "      <td>0.013934</td>\n",
       "      <td>0.906684</td>\n",
       "      <td>0.014068</td>\n",
       "      <td>0.906712</td>\n",
       "      <td>0.014080</td>\n",
       "      <td>0.906684</td>\n",
       "      <td>0.014068</td>\n",
       "      <td>0.230642</td>\n",
       "      <td>0.021984</td>\n",
       "    </tr>\n",
       "    <tr>\n",
       "      <th>Random Forest - Default Params</th>\n",
       "      <td>0.937176</td>\n",
       "      <td>0.013090</td>\n",
       "      <td>0.934606</td>\n",
       "      <td>0.014100</td>\n",
       "      <td>0.934618</td>\n",
       "      <td>0.014069</td>\n",
       "      <td>0.934606</td>\n",
       "      <td>0.014100</td>\n",
       "      <td>0.035999</td>\n",
       "      <td>0.001998</td>\n",
       "    </tr>\n",
       "    <tr>\n",
       "      <th>Neural Network - Deault Params</th>\n",
       "      <td>0.909763</td>\n",
       "      <td>0.013386</td>\n",
       "      <td>0.908439</td>\n",
       "      <td>0.013612</td>\n",
       "      <td>0.908469</td>\n",
       "      <td>0.013607</td>\n",
       "      <td>0.908439</td>\n",
       "      <td>0.013612</td>\n",
       "      <td>2.031137</td>\n",
       "      <td>0.002001</td>\n",
       "    </tr>\n",
       "    <tr>\n",
       "      <th>Random Forest</th>\n",
       "      <td>0.969152</td>\n",
       "      <td>0.008490</td>\n",
       "      <td>0.968619</td>\n",
       "      <td>0.008771</td>\n",
       "      <td>0.968633</td>\n",
       "      <td>0.008758</td>\n",
       "      <td>0.968619</td>\n",
       "      <td>0.008771</td>\n",
       "      <td>0.515666</td>\n",
       "      <td>0.031248</td>\n",
       "    </tr>\n",
       "    <tr>\n",
       "      <th>Neural Network</th>\n",
       "      <td>0.903432</td>\n",
       "      <td>0.014956</td>\n",
       "      <td>0.902423</td>\n",
       "      <td>0.015054</td>\n",
       "      <td>0.902458</td>\n",
       "      <td>0.015043</td>\n",
       "      <td>0.902423</td>\n",
       "      <td>0.015054</td>\n",
       "      <td>0.841421</td>\n",
       "      <td>0.001997</td>\n",
       "    </tr>\n",
       "  </tbody>\n",
       "</table>\n",
       "</div>"
      ],
      "text/plain": [
       "                                Precision  STD Precision    Recall  \\\n",
       "K-Nearest Neighbour              0.816057       0.015895  0.816057   \n",
       "SVM                              0.907932       0.013934  0.906684   \n",
       "Random Forest - Default Params   0.937176       0.013090  0.934606   \n",
       "Neural Network - Deault Params   0.909763       0.013386  0.908439   \n",
       "Random Forest                    0.969152       0.008490  0.968619   \n",
       "Neural Network                   0.903432       0.014956  0.902423   \n",
       "\n",
       "                                STD-Recall  F1-Score   SDev-F1  Accuracy  \\\n",
       "K-Nearest Neighbour               0.023981  0.816057  0.025940  0.816057   \n",
       "SVM                               0.014068  0.906712  0.014080  0.906684   \n",
       "Random Forest - Default Params    0.014100  0.934618  0.014069  0.934606   \n",
       "Neural Network - Deault Params    0.013612  0.908469  0.013607  0.908439   \n",
       "Random Forest                     0.008771  0.968633  0.008758  0.968619   \n",
       "Neural Network                    0.015054  0.902458  0.015043  0.902423   \n",
       "\n",
       "                                SDec-Accuracy  Training Time(s)  \\\n",
       "K-Nearest Neighbour                  0.023981          0.009996   \n",
       "SVM                                  0.014068          0.230642   \n",
       "Random Forest - Default Params       0.014100          0.035999   \n",
       "Neural Network - Deault Params       0.013612          2.031137   \n",
       "Random Forest                        0.008771          0.515666   \n",
       "Neural Network                       0.015054          0.841421   \n",
       "\n",
       "                                Classification Time(s)  \n",
       "K-Nearest Neighbour                           0.086951  \n",
       "SVM                                           0.021984  \n",
       "Random Forest - Default Params                0.001998  \n",
       "Neural Network - Deault Params                0.002001  \n",
       "Random Forest                                 0.031248  \n",
       "Neural Network                                0.001997  "
      ]
     },
     "execution_count": 71,
     "metadata": {},
     "output_type": "execute_result"
    }
   ],
   "source": [
    "# getting average values\n",
    "import statistics\n",
    "precision = []\n",
    "recall = []\n",
    "f1_score = []\n",
    "accuracy = []\n",
    "std_precision = []\n",
    "std_recall = []\n",
    "std_f1 = []\n",
    "std_acc = []\n",
    "\n",
    "precision_knn = [d['weighted avg']['precision'] for d in classification_reports_knn]\n",
    "recall_knn = [d['weighted avg']['recall'] for d in classification_reports_knn]\n",
    "f1_knn = [d['weighted avg']['f1-score'] for d in classification_reports_knn]\n",
    "\n",
    "#calculating averages and standard deviation\n",
    "precision.append(statistics.mean(precision_knn))\n",
    "std_precision.append(statistics.stdev(precision_knn))\n",
    "recall.append(statistics.mean(precision_knn))\n",
    "std_recall.append(statistics.stdev(recall_knn))\n",
    "f1_score.append(statistics.mean(precision_knn))\n",
    "std_f1.append(statistics.stdev(f1_knn))\n",
    "accuracy.append(statistics.mean(precision_knn))\n",
    "std_acc.append(statistics.stdev(acc_knn))\n",
    "\n",
    "\n",
    "precicion_svm = [d['weighted avg']['precision'] for d in classification_reports_svm]\n",
    "recall_svm = [d['weighted avg']['recall'] for d in classification_reports_svm]\n",
    "f1_svm = [d['weighted avg']['f1-score'] for d in classification_reports_svm]\n",
    "\n",
    "precision.append(statistics.mean(precicion_svm))\n",
    "std_precision.append(statistics.stdev(precicion_svm))\n",
    "recall.append(statistics.mean(recall_svm))\n",
    "std_recall.append(statistics.stdev(recall_svm))\n",
    "f1_score.append(statistics.mean(f1_svm))\n",
    "std_f1.append(statistics.stdev(f1_svm))\n",
    "accuracy.append(statistics.mean(acc_svm))\n",
    "std_acc.append(statistics.stdev(acc_svm))\n",
    "\n",
    "precicion_rf = [d['weighted avg']['precision'] for d in classification_reports_rf]\n",
    "recall_rf = [d['weighted avg']['recall'] for d in classification_reports_rf]\n",
    "f1_rf = [d['weighted avg']['f1-score'] for d in classification_reports_rf]\n",
    "\n",
    "precision.append(statistics.mean(precicion_rf))\n",
    "std_precision.append(statistics.stdev(precicion_rf))\n",
    "recall.append(statistics.mean(recall_rf))\n",
    "std_recall.append(statistics.stdev(recall_rf))\n",
    "f1_score.append(statistics.mean(f1_rf))\n",
    "std_f1.append(statistics.stdev(f1_rf))\n",
    "accuracy.append(statistics.mean(acc_rf))\n",
    "std_acc.append(statistics.stdev(acc_rf))\n",
    "\n",
    "precicion_nn = [d['weighted avg']['precision'] for d in classification_reports_nn]\n",
    "recall_nn = [d['weighted avg']['recall'] for d in classification_reports_nn]\n",
    "f1_nn = [d['weighted avg']['f1-score'] for d in classification_reports_nn]\n",
    "precision.append(statistics.mean(precicion_nn))\n",
    "std_precision.append(statistics.stdev(precicion_nn))\n",
    "recall.append(statistics.mean(recall_nn))\n",
    "std_recall.append(statistics.stdev(recall_nn))\n",
    "f1_score.append(statistics.mean(f1_nn))\n",
    "std_f1.append(statistics.stdev(f1_nn))\n",
    "accuracy.append(statistics.mean(acc_nn))\n",
    "std_acc.append(statistics.stdev(acc_nn))\n",
    "\n",
    "\n",
    "precicion_rf2 = [d['weighted avg']['precision'] for d in classification_reports_rf2]\n",
    "recall_rf2 = [d['weighted avg']['recall'] for d in classification_reports_rf2]\n",
    "f1_rf2 = [d['weighted avg']['f1-score'] for d in classification_reports_rf2]\n",
    "precision.append(statistics.mean(precicion_rf2))\n",
    "std_precision.append(statistics.stdev(precicion_rf2))\n",
    "recall.append(statistics.mean(recall_rf2))\n",
    "std_recall.append(statistics.stdev(recall_rf2))\n",
    "f1_score.append(statistics.mean(f1_rf2))\n",
    "std_f1.append(statistics.stdev(f1_rf2))\n",
    "accuracy.append(statistics.mean(acc_rf2))\n",
    "std_acc.append(statistics.stdev(acc_rf2))\n",
    "\n",
    "precicion_nn2 = [d['weighted avg']['precision'] for d in classification_reports_nn2]\n",
    "recall_nn2 = [d['weighted avg']['recall'] for d in classification_reports_nn2]\n",
    "f1_nn2 = [d['weighted avg']['f1-score'] for d in classification_reports_nn2]\n",
    "precision.append(statistics.mean(precicion_nn2))\n",
    "std_precision.append(statistics.stdev(precicion_nn2))\n",
    "recall.append(statistics.mean(recall_nn2))\n",
    "std_recall.append(statistics.stdev(recall_nn2))\n",
    "f1_score.append(statistics.mean(f1_nn2))\n",
    "std_f1.append(statistics.stdev(f1_nn2))\n",
    "accuracy.append(statistics.mean(acc_nn2))\n",
    "std_acc.append(statistics.stdev(acc_nn2))\n",
    "\n",
    "# print(precision)\n",
    "# print(recall)\n",
    "# print(f1_score)\n",
    "# print(accuracy)\n",
    "# training_time = [train_knn,train_svm,train_rf,train_nn,train_rf2,train_nn2]\n",
    "# classification_time = [classify_knn,classify_svm,classify_rf,classify_nn,classify_rf2,classify_nn2]\n",
    "# print(\"STD abbreviation used for Standard Deviation\")\n",
    "# table_dna = pd.DataFrame({'Precision':precision, 'STD Precision':std_precision, 'Recall':recall,'STD-Recall':std_recall, 'F1-Score': f1_score,'SDev-F1':std_f1 ,'Accuracy':accuracy,'SDec-Accuracy':std_acc, 'Training Time(s)':training_time, 'Classification Time(s)':classification_time})\n",
    "# table_dna.rename(index={0:'K-Nearest Neighbour',1:'SVM',2:'Random Forest - Default Params',3:'Neural Network - Deault Params',4:'Random Forest',5:'Neural Network'})"
   ]
  },
  {
   "cell_type": "markdown",
   "metadata": {},
   "source": [
    "### Task 3c Results:"
   ]
  },
  {
   "cell_type": "code",
   "execution_count": 79,
   "metadata": {
    "scrolled": true
   },
   "outputs": [
    {
     "name": "stdout",
     "output_type": "stream",
     "text": [
      "Reporting of results for Six Classifiers:\n",
      " 1. KNN     2. SVM(RBF Kernel)     3. RF(default)     4. NN (default)     5. RF Customized     6. Neural Network Customized\n",
      "Precision\n",
      " [0.8160567809212013, 0.9079322068835365, 0.9371760864184594, 0.9097631858503904, 0.9691515568920573, 0.9034319326716734]\n",
      "Recall\n",
      " [0.8160567809212013, 0.9066844767061126, 0.9346062717708641, 0.9084391016831039, 0.9686192475601487, 0.9024231401311171]\n",
      "F1 Score\n",
      " [0.8160567809212013, 0.9067121265669993, 0.9346184452958279, 0.9084694050064263, 0.9686333258957938, 0.9024581509529433]\n",
      "Accuracy\n",
      " [0.8160567809212013, 0.9066844767061126, 0.9346062717708641, 0.9084391016831039, 0.9686192475601487, 0.9024231401311171]\n"
     ]
    },
    {
     "data": {
      "text/html": [
       "<div>\n",
       "<style scoped>\n",
       "    .dataframe tbody tr th:only-of-type {\n",
       "        vertical-align: middle;\n",
       "    }\n",
       "\n",
       "    .dataframe tbody tr th {\n",
       "        vertical-align: top;\n",
       "    }\n",
       "\n",
       "    .dataframe thead th {\n",
       "        text-align: right;\n",
       "    }\n",
       "</style>\n",
       "<table border=\"1\" class=\"dataframe\">\n",
       "  <thead>\n",
       "    <tr style=\"text-align: right;\">\n",
       "      <th></th>\n",
       "      <th>Precision</th>\n",
       "      <th>STD Precision</th>\n",
       "      <th>Recall</th>\n",
       "      <th>STD-Recall</th>\n",
       "      <th>F1-Score</th>\n",
       "      <th>SDev-F1</th>\n",
       "      <th>Accuracy</th>\n",
       "      <th>SDec-Accuracy</th>\n",
       "      <th>Training Time(s)</th>\n",
       "      <th>Classification Time(s)</th>\n",
       "    </tr>\n",
       "  </thead>\n",
       "  <tbody>\n",
       "    <tr>\n",
       "      <th>K-Nearest Neighbour</th>\n",
       "      <td>0.816057</td>\n",
       "      <td>0.015895</td>\n",
       "      <td>0.816057</td>\n",
       "      <td>0.023981</td>\n",
       "      <td>0.816057</td>\n",
       "      <td>0.025940</td>\n",
       "      <td>0.816057</td>\n",
       "      <td>0.023981</td>\n",
       "      <td>0.009996</td>\n",
       "      <td>0.086951</td>\n",
       "    </tr>\n",
       "    <tr>\n",
       "      <th>SVM</th>\n",
       "      <td>0.907932</td>\n",
       "      <td>0.013934</td>\n",
       "      <td>0.906684</td>\n",
       "      <td>0.014068</td>\n",
       "      <td>0.906712</td>\n",
       "      <td>0.014080</td>\n",
       "      <td>0.906684</td>\n",
       "      <td>0.014068</td>\n",
       "      <td>0.230642</td>\n",
       "      <td>0.021984</td>\n",
       "    </tr>\n",
       "    <tr>\n",
       "      <th>Random Forest - Default Params</th>\n",
       "      <td>0.937176</td>\n",
       "      <td>0.013090</td>\n",
       "      <td>0.934606</td>\n",
       "      <td>0.014100</td>\n",
       "      <td>0.934618</td>\n",
       "      <td>0.014069</td>\n",
       "      <td>0.934606</td>\n",
       "      <td>0.014100</td>\n",
       "      <td>0.035999</td>\n",
       "      <td>0.001998</td>\n",
       "    </tr>\n",
       "    <tr>\n",
       "      <th>Neural Network - Deault Params</th>\n",
       "      <td>0.909763</td>\n",
       "      <td>0.013386</td>\n",
       "      <td>0.908439</td>\n",
       "      <td>0.013612</td>\n",
       "      <td>0.908469</td>\n",
       "      <td>0.013607</td>\n",
       "      <td>0.908439</td>\n",
       "      <td>0.013612</td>\n",
       "      <td>2.031137</td>\n",
       "      <td>0.002001</td>\n",
       "    </tr>\n",
       "    <tr>\n",
       "      <th>Random Forest</th>\n",
       "      <td>0.969152</td>\n",
       "      <td>0.008490</td>\n",
       "      <td>0.968619</td>\n",
       "      <td>0.008771</td>\n",
       "      <td>0.968633</td>\n",
       "      <td>0.008758</td>\n",
       "      <td>0.968619</td>\n",
       "      <td>0.008771</td>\n",
       "      <td>0.515666</td>\n",
       "      <td>0.031248</td>\n",
       "    </tr>\n",
       "    <tr>\n",
       "      <th>Neural Network</th>\n",
       "      <td>0.903432</td>\n",
       "      <td>0.014956</td>\n",
       "      <td>0.902423</td>\n",
       "      <td>0.015054</td>\n",
       "      <td>0.902458</td>\n",
       "      <td>0.015043</td>\n",
       "      <td>0.902423</td>\n",
       "      <td>0.015054</td>\n",
       "      <td>0.841421</td>\n",
       "      <td>0.001997</td>\n",
       "    </tr>\n",
       "  </tbody>\n",
       "</table>\n",
       "</div>"
      ],
      "text/plain": [
       "                                Precision  STD Precision    Recall  \\\n",
       "K-Nearest Neighbour              0.816057       0.015895  0.816057   \n",
       "SVM                              0.907932       0.013934  0.906684   \n",
       "Random Forest - Default Params   0.937176       0.013090  0.934606   \n",
       "Neural Network - Deault Params   0.909763       0.013386  0.908439   \n",
       "Random Forest                    0.969152       0.008490  0.968619   \n",
       "Neural Network                   0.903432       0.014956  0.902423   \n",
       "\n",
       "                                STD-Recall  F1-Score   SDev-F1  Accuracy  \\\n",
       "K-Nearest Neighbour               0.023981  0.816057  0.025940  0.816057   \n",
       "SVM                               0.014068  0.906712  0.014080  0.906684   \n",
       "Random Forest - Default Params    0.014100  0.934618  0.014069  0.934606   \n",
       "Neural Network - Deault Params    0.013612  0.908469  0.013607  0.908439   \n",
       "Random Forest                     0.008771  0.968633  0.008758  0.968619   \n",
       "Neural Network                    0.015054  0.902458  0.015043  0.902423   \n",
       "\n",
       "                                SDec-Accuracy  Training Time(s)  \\\n",
       "K-Nearest Neighbour                  0.023981          0.009996   \n",
       "SVM                                  0.014068          0.230642   \n",
       "Random Forest - Default Params       0.014100          0.035999   \n",
       "Neural Network - Deault Params       0.013612          2.031137   \n",
       "Random Forest                        0.008771          0.515666   \n",
       "Neural Network                       0.015054          0.841421   \n",
       "\n",
       "                                Classification Time(s)  \n",
       "K-Nearest Neighbour                           0.086951  \n",
       "SVM                                           0.021984  \n",
       "Random Forest - Default Params                0.001998  \n",
       "Neural Network - Deault Params                0.002001  \n",
       "Random Forest                                 0.031248  \n",
       "Neural Network                                0.001997  "
      ]
     },
     "execution_count": 79,
     "metadata": {},
     "output_type": "execute_result"
    }
   ],
   "source": [
    "print(\"Reporting of results for Six Classifiers:\\n 1. KNN     2. SVM(RBF Kernel)     3. RF(default)     4. NN (default)     5. RF Customized     6. Neural Network Customized\")\n",
    "print(\"Precision\\n\",precision)\n",
    "print(\"Recall\\n\",recall)\n",
    "print(\"F1 Score\\n\",f1_score)\n",
    "print(\"Accuracy\\n\",accuracy)\n",
    "training_time = [train_knn,train_svm,train_rf,train_nn,train_rf2,train_nn2]\n",
    "classification_time = [classify_knn,classify_svm,classify_rf,classify_nn,classify_rf2,classify_nn2]\n",
    "# print(\"STD abbreviation used for Standard Deviation\")\n",
    "table_dna = pd.DataFrame({'Precision':precision, 'STD Precision':std_precision, 'Recall':recall,'STD-Recall':std_recall, 'F1-Score': f1_score,'SDev-F1':std_f1 ,'Accuracy':accuracy,'SDec-Accuracy':std_acc, 'Training Time(s)':training_time, 'Classification Time(s)':classification_time})\n",
    "table_dna.rename(index={0:'K-Nearest Neighbour',1:'SVM',2:'Random Forest - Default Params',3:'Neural Network - Deault Params',4:'Random Forest',5:'Neural Network'})"
   ]
  },
  {
   "cell_type": "markdown",
   "metadata": {},
   "source": [
    " **Explain why the classiﬁcation was repeated 20 times**\n",
    " \n",
    " To answer in one sentence, **\"To make sure model does not overfit on training set\"**. Detailed explanation of the reason is given below:\n",
    " \n",
    "<p><b>The classification is repeated 20 times</b> for all classification methods to get a better estimate of the performance of the classifier. Here, we randomly sample the training and testing data in each iteration and measure the average values for accuracy, recall, F1-score and precision. This diversity of training and testing data ensures that we get true performance metrics for the classifier. If the classifier was trained for 1 or less number of times, then it might give good accuracy for a particular training and test set, however it might fail on some new test data. Therefore, measuring classifier performance on less iterations gives us a false illusion of its performance. Hence, to compare different classifiers, it is better to run for more iterations and compare their average metrics.</p>"
   ]
  },
  {
   "cell_type": "markdown",
   "metadata": {},
   "source": [
    "### Task 4.  Results and Reasoning\n",
    "Given below are the conclusions and inferences drawn from the table of results mentioned above:\n",
    "1. Random Forest outperforms all other algorithms interms of accuracy, precison, recall as well as F1 score(~0.96) where as KNN performs the worse.\n",
    "2. KNN takes the minimum to fit the model howerever takes more time to do classification which is because of the fact that it has to calculate pair wise distance for all point during classification time only.\n",
    "3. Neural Networks with default parameter took highest time for classification almost 4 times the time taken by RF with customized parameters.\n",
    "4. Random Forest after parameter tuning performs better interms of accuracy as compared to performance of Random Forest.\n",
    "5. SVM gives far better results(90% accuracy) as compared to KNN algorithm(~81% accuracy), however takes more time for training. As the size of current dataset is not very big, training time is not a major problem.\n",
    "6. Also it can be observed that standard deviation for precision and recall is highest for KNN algorithm which suggest that results vary more on each run. However, RF always give stable results on each run which is evident from fact low variance in precision and recall scores.\n",
    "\n",
    "**From the above analysis, it can be concluded that Random Forest after proper classification parameter tuning can give best results for this kind of dataset in future.**"
   ]
  },
  {
   "cell_type": "markdown",
   "metadata": {},
   "source": [
    "\n",
    " "
   ]
  },
  {
   "cell_type": "markdown",
   "metadata": {},
   "source": [
    "### Task 5. Removing 1 feature -\n",
    "To find feature importance, we are using 2 methods to find the feature of least importance-\n",
    "1. ExtraTreesClassifier -\n",
    "- We implemented this using the scikit learn library that computes feature importances. We find out the feature of least importance and remove and test our classifier.\n",
    "- We plotted the bottom five features from the feature importances returned by ExtraTreesClassifier and found the feature of least importance.\n",
    "\n",
    "2. Drop each feature one by one - \n",
    "- We test the random forest classifier accuracy after dropping each feature one by one. The increase in accuracy after removing a feature signifies that the feature is not useful for classification and hence can be removed. We plotted the accuracy v/s the feature removed curve to find after removing which feature, accuracy is maximum. \n",
    "- We also printed the bottom five features after removing which we got maximum accuracy.\n",
    "\n",
    "**Observations**\n",
    "<p>For our dataset, both above methods gives \"2.2\" feature that is of least importance and we get more accuracy of random forest on removing this feature by ~3%. However, we observed that the feature importance values vary for different classifiers and hence removing this feature might not improve accuracy for some other classifier.</p>"
   ]
  },
  {
   "cell_type": "code",
   "execution_count": 24,
   "metadata": {},
   "outputs": [
    {
     "name": "stdout",
     "output_type": "stream",
     "text": [
      "[0.00766275 0.00703271 0.00791069 0.00908655 0.00810374 0.00527414\n",
      " 0.00457826 0.00688746 0.00929294 0.00725954 0.00843848 0.00808175\n",
      " 0.01158604 0.00802743 0.0133024  0.00902205 0.01094631 0.01325615\n",
      " 0.01313425 0.01457482 0.01266376 0.02133479 0.01091298 0.02801179\n",
      " 0.01351658 0.00661411 0.05077722 0.12115361 0.12007101 0.07044855\n",
      " 0.10572958 0.02901298 0.02176472 0.02655826 0.01117336 0.00851045\n",
      " 0.00604793 0.00941195 0.00662932 0.00832497 0.00704792 0.01005384\n",
      " 0.00931642 0.00537725 0.00880734 0.00945075 0.00755555 0.0080429\n",
      " 0.00756325 0.00672488 0.00763389 0.00681035 0.00738323 0.00633576\n",
      " 0.00527141 0.00868266 0.00581625]\n"
     ]
    },
    {
     "name": "stderr",
     "output_type": "stream",
     "text": [
      "C:\\Users\\jatin\\Anaconda3\\lib\\site-packages\\sklearn\\ensemble\\forest.py:246: FutureWarning: The default value of n_estimators will change from 10 in version 0.20 to 100 in 0.22.\n",
      "  \"10 in version 0.20 to 100 in 0.22.\", FutureWarning)\n"
     ]
    },
    {
     "data": {
      "image/png": "[encoded data removed]",
      "text/plain": [
       "<Figure size 432x288 with 1 Axes>"
      ]
     },
     "metadata": {
      "needs_background": "light"
     },
     "output_type": "display_data"
    }
   ],
   "source": [
    "#This class implements a meta estimator that fits a number of randomized decision trees (a.k.a. extra-trees) \n",
    "#on various sub-samples of the dataset and uses averaging to improve the predictive accuracy and control over-fitting.\n",
    "from sklearn.ensemble import ExtraTreesClassifier\n",
    "model = ExtraTreesClassifier()\n",
    "X_imp = data_dnazscore.iloc[:,:-1]\n",
    "y_imp = data_dnazscore.iloc[:,-1]\n",
    "model.fit(X_imp,y_imp)\n",
    "#Return the feature importances (the higher, the more important the feature).\n",
    "feat_importances = pd.Series(model.feature_importances_, index=X_imp.columns)\n",
    "print(model.feature_importances_)\n",
    "feat_importances.nsmallest(5).plot(kind='barh')\n",
    "plt.show()"
   ]
  },
  {
   "cell_type": "code",
   "execution_count": 23,
   "metadata": {},
   "outputs": [
    {
     "name": "stderr",
     "output_type": "stream",
     "text": [
      "C:\\Users\\jatin\\Anaconda3\\lib\\site-packages\\sklearn\\ensemble\\forest.py:246: FutureWarning: The default value of n_estimators will change from 10 in version 0.20 to 100 in 0.22.\n",
      "  \"10 in version 0.20 to 100 in 0.22.\", FutureWarning)\n",
      "C:\\Users\\jatin\\Anaconda3\\lib\\site-packages\\sklearn\\ensemble\\forest.py:246: FutureWarning: The default value of n_estimators will change from 10 in version 0.20 to 100 in 0.22.\n",
      "  \"10 in version 0.20 to 100 in 0.22.\", FutureWarning)\n",
      "C:\\Users\\jatin\\Anaconda3\\lib\\site-packages\\sklearn\\ensemble\\forest.py:246: FutureWarning: The default value of n_estimators will change from 10 in version 0.20 to 100 in 0.22.\n",
      "  \"10 in version 0.20 to 100 in 0.22.\", FutureWarning)\n",
      "C:\\Users\\jatin\\Anaconda3\\lib\\site-packages\\sklearn\\ensemble\\forest.py:246: FutureWarning: The default value of n_estimators will change from 10 in version 0.20 to 100 in 0.22.\n",
      "  \"10 in version 0.20 to 100 in 0.22.\", FutureWarning)\n",
      "C:\\Users\\jatin\\Anaconda3\\lib\\site-packages\\sklearn\\ensemble\\forest.py:246: FutureWarning: The default value of n_estimators will change from 10 in version 0.20 to 100 in 0.22.\n",
      "  \"10 in version 0.20 to 100 in 0.22.\", FutureWarning)\n",
      "C:\\Users\\jatin\\Anaconda3\\lib\\site-packages\\sklearn\\ensemble\\forest.py:246: FutureWarning: The default value of n_estimators will change from 10 in version 0.20 to 100 in 0.22.\n",
      "  \"10 in version 0.20 to 100 in 0.22.\", FutureWarning)\n",
      "C:\\Users\\jatin\\Anaconda3\\lib\\site-packages\\sklearn\\ensemble\\forest.py:246: FutureWarning: The default value of n_estimators will change from 10 in version 0.20 to 100 in 0.22.\n",
      "  \"10 in version 0.20 to 100 in 0.22.\", FutureWarning)\n",
      "C:\\Users\\jatin\\Anaconda3\\lib\\site-packages\\sklearn\\ensemble\\forest.py:246: FutureWarning: The default value of n_estimators will change from 10 in version 0.20 to 100 in 0.22.\n",
      "  \"10 in version 0.20 to 100 in 0.22.\", FutureWarning)\n",
      "C:\\Users\\jatin\\Anaconda3\\lib\\site-packages\\sklearn\\ensemble\\forest.py:246: FutureWarning: The default value of n_estimators will change from 10 in version 0.20 to 100 in 0.22.\n",
      "  \"10 in version 0.20 to 100 in 0.22.\", FutureWarning)\n",
      "C:\\Users\\jatin\\Anaconda3\\lib\\site-packages\\sklearn\\ensemble\\forest.py:246: FutureWarning: The default value of n_estimators will change from 10 in version 0.20 to 100 in 0.22.\n",
      "  \"10 in version 0.20 to 100 in 0.22.\", FutureWarning)\n",
      "C:\\Users\\jatin\\Anaconda3\\lib\\site-packages\\sklearn\\ensemble\\forest.py:246: FutureWarning: The default value of n_estimators will change from 10 in version 0.20 to 100 in 0.22.\n",
      "  \"10 in version 0.20 to 100 in 0.22.\", FutureWarning)\n",
      "C:\\Users\\jatin\\Anaconda3\\lib\\site-packages\\sklearn\\ensemble\\forest.py:246: FutureWarning: The default value of n_estimators will change from 10 in version 0.20 to 100 in 0.22.\n",
      "  \"10 in version 0.20 to 100 in 0.22.\", FutureWarning)\n",
      "C:\\Users\\jatin\\Anaconda3\\lib\\site-packages\\sklearn\\ensemble\\forest.py:246: FutureWarning: The default value of n_estimators will change from 10 in version 0.20 to 100 in 0.22.\n",
      "  \"10 in version 0.20 to 100 in 0.22.\", FutureWarning)\n",
      "C:\\Users\\jatin\\Anaconda3\\lib\\site-packages\\sklearn\\ensemble\\forest.py:246: FutureWarning: The default value of n_estimators will change from 10 in version 0.20 to 100 in 0.22.\n",
      "  \"10 in version 0.20 to 100 in 0.22.\", FutureWarning)\n",
      "C:\\Users\\jatin\\Anaconda3\\lib\\site-packages\\sklearn\\ensemble\\forest.py:246: FutureWarning: The default value of n_estimators will change from 10 in version 0.20 to 100 in 0.22.\n",
      "  \"10 in version 0.20 to 100 in 0.22.\", FutureWarning)\n",
      "C:\\Users\\jatin\\Anaconda3\\lib\\site-packages\\sklearn\\ensemble\\forest.py:246: FutureWarning: The default value of n_estimators will change from 10 in version 0.20 to 100 in 0.22.\n",
      "  \"10 in version 0.20 to 100 in 0.22.\", FutureWarning)\n",
      "C:\\Users\\jatin\\Anaconda3\\lib\\site-packages\\sklearn\\ensemble\\forest.py:246: FutureWarning: The default value of n_estimators will change from 10 in version 0.20 to 100 in 0.22.\n",
      "  \"10 in version 0.20 to 100 in 0.22.\", FutureWarning)\n",
      "C:\\Users\\jatin\\Anaconda3\\lib\\site-packages\\sklearn\\ensemble\\forest.py:246: FutureWarning: The default value of n_estimators will change from 10 in version 0.20 to 100 in 0.22.\n",
      "  \"10 in version 0.20 to 100 in 0.22.\", FutureWarning)\n",
      "C:\\Users\\jatin\\Anaconda3\\lib\\site-packages\\sklearn\\ensemble\\forest.py:246: FutureWarning: The default value of n_estimators will change from 10 in version 0.20 to 100 in 0.22.\n",
      "  \"10 in version 0.20 to 100 in 0.22.\", FutureWarning)\n",
      "C:\\Users\\jatin\\Anaconda3\\lib\\site-packages\\sklearn\\ensemble\\forest.py:246: FutureWarning: The default value of n_estimators will change from 10 in version 0.20 to 100 in 0.22.\n",
      "  \"10 in version 0.20 to 100 in 0.22.\", FutureWarning)\n",
      "C:\\Users\\jatin\\Anaconda3\\lib\\site-packages\\sklearn\\ensemble\\forest.py:246: FutureWarning: The default value of n_estimators will change from 10 in version 0.20 to 100 in 0.22.\n",
      "  \"10 in version 0.20 to 100 in 0.22.\", FutureWarning)\n",
      "C:\\Users\\jatin\\Anaconda3\\lib\\site-packages\\sklearn\\ensemble\\forest.py:246: FutureWarning: The default value of n_estimators will change from 10 in version 0.20 to 100 in 0.22.\n",
      "  \"10 in version 0.20 to 100 in 0.22.\", FutureWarning)\n",
      "C:\\Users\\jatin\\Anaconda3\\lib\\site-packages\\sklearn\\ensemble\\forest.py:246: FutureWarning: The default value of n_estimators will change from 10 in version 0.20 to 100 in 0.22.\n",
      "  \"10 in version 0.20 to 100 in 0.22.\", FutureWarning)\n",
      "C:\\Users\\jatin\\Anaconda3\\lib\\site-packages\\sklearn\\ensemble\\forest.py:246: FutureWarning: The default value of n_estimators will change from 10 in version 0.20 to 100 in 0.22.\n",
      "  \"10 in version 0.20 to 100 in 0.22.\", FutureWarning)\n",
      "C:\\Users\\jatin\\Anaconda3\\lib\\site-packages\\sklearn\\ensemble\\forest.py:246: FutureWarning: The default value of n_estimators will change from 10 in version 0.20 to 100 in 0.22.\n",
      "  \"10 in version 0.20 to 100 in 0.22.\", FutureWarning)\n",
      "C:\\Users\\jatin\\Anaconda3\\lib\\site-packages\\sklearn\\ensemble\\forest.py:246: FutureWarning: The default value of n_estimators will change from 10 in version 0.20 to 100 in 0.22.\n",
      "  \"10 in version 0.20 to 100 in 0.22.\", FutureWarning)\n",
      "C:\\Users\\jatin\\Anaconda3\\lib\\site-packages\\sklearn\\ensemble\\forest.py:246: FutureWarning: The default value of n_estimators will change from 10 in version 0.20 to 100 in 0.22.\n",
      "  \"10 in version 0.20 to 100 in 0.22.\", FutureWarning)\n",
      "C:\\Users\\jatin\\Anaconda3\\lib\\site-packages\\sklearn\\ensemble\\forest.py:246: FutureWarning: The default value of n_estimators will change from 10 in version 0.20 to 100 in 0.22.\n",
      "  \"10 in version 0.20 to 100 in 0.22.\", FutureWarning)\n",
      "C:\\Users\\jatin\\Anaconda3\\lib\\site-packages\\sklearn\\ensemble\\forest.py:246: FutureWarning: The default value of n_estimators will change from 10 in version 0.20 to 100 in 0.22.\n",
      "  \"10 in version 0.20 to 100 in 0.22.\", FutureWarning)\n",
      "C:\\Users\\jatin\\Anaconda3\\lib\\site-packages\\sklearn\\ensemble\\forest.py:246: FutureWarning: The default value of n_estimators will change from 10 in version 0.20 to 100 in 0.22.\n",
      "  \"10 in version 0.20 to 100 in 0.22.\", FutureWarning)\n",
      "C:\\Users\\jatin\\Anaconda3\\lib\\site-packages\\sklearn\\ensemble\\forest.py:246: FutureWarning: The default value of n_estimators will change from 10 in version 0.20 to 100 in 0.22.\n",
      "  \"10 in version 0.20 to 100 in 0.22.\", FutureWarning)\n",
      "C:\\Users\\jatin\\Anaconda3\\lib\\site-packages\\sklearn\\ensemble\\forest.py:246: FutureWarning: The default value of n_estimators will change from 10 in version 0.20 to 100 in 0.22.\n",
      "  \"10 in version 0.20 to 100 in 0.22.\", FutureWarning)\n",
      "C:\\Users\\jatin\\Anaconda3\\lib\\site-packages\\sklearn\\ensemble\\forest.py:246: FutureWarning: The default value of n_estimators will change from 10 in version 0.20 to 100 in 0.22.\n",
      "  \"10 in version 0.20 to 100 in 0.22.\", FutureWarning)\n",
      "C:\\Users\\jatin\\Anaconda3\\lib\\site-packages\\sklearn\\ensemble\\forest.py:246: FutureWarning: The default value of n_estimators will change from 10 in version 0.20 to 100 in 0.22.\n",
      "  \"10 in version 0.20 to 100 in 0.22.\", FutureWarning)\n",
      "C:\\Users\\jatin\\Anaconda3\\lib\\site-packages\\sklearn\\ensemble\\forest.py:246: FutureWarning: The default value of n_estimators will change from 10 in version 0.20 to 100 in 0.22.\n",
      "  \"10 in version 0.20 to 100 in 0.22.\", FutureWarning)\n",
      "C:\\Users\\jatin\\Anaconda3\\lib\\site-packages\\sklearn\\ensemble\\forest.py:246: FutureWarning: The default value of n_estimators will change from 10 in version 0.20 to 100 in 0.22.\n",
      "  \"10 in version 0.20 to 100 in 0.22.\", FutureWarning)\n",
      "C:\\Users\\jatin\\Anaconda3\\lib\\site-packages\\sklearn\\ensemble\\forest.py:246: FutureWarning: The default value of n_estimators will change from 10 in version 0.20 to 100 in 0.22.\n",
      "  \"10 in version 0.20 to 100 in 0.22.\", FutureWarning)\n",
      "C:\\Users\\jatin\\Anaconda3\\lib\\site-packages\\sklearn\\ensemble\\forest.py:246: FutureWarning: The default value of n_estimators will change from 10 in version 0.20 to 100 in 0.22.\n",
      "  \"10 in version 0.20 to 100 in 0.22.\", FutureWarning)\n",
      "C:\\Users\\jatin\\Anaconda3\\lib\\site-packages\\sklearn\\ensemble\\forest.py:246: FutureWarning: The default value of n_estimators will change from 10 in version 0.20 to 100 in 0.22.\n",
      "  \"10 in version 0.20 to 100 in 0.22.\", FutureWarning)\n",
      "C:\\Users\\jatin\\Anaconda3\\lib\\site-packages\\sklearn\\ensemble\\forest.py:246: FutureWarning: The default value of n_estimators will change from 10 in version 0.20 to 100 in 0.22.\n",
      "  \"10 in version 0.20 to 100 in 0.22.\", FutureWarning)\n"
     ]
    },
    {
     "name": "stderr",
     "output_type": "stream",
     "text": [
      "C:\\Users\\jatin\\Anaconda3\\lib\\site-packages\\sklearn\\ensemble\\forest.py:246: FutureWarning: The default value of n_estimators will change from 10 in version 0.20 to 100 in 0.22.\n",
      "  \"10 in version 0.20 to 100 in 0.22.\", FutureWarning)\n",
      "C:\\Users\\jatin\\Anaconda3\\lib\\site-packages\\sklearn\\ensemble\\forest.py:246: FutureWarning: The default value of n_estimators will change from 10 in version 0.20 to 100 in 0.22.\n",
      "  \"10 in version 0.20 to 100 in 0.22.\", FutureWarning)\n",
      "C:\\Users\\jatin\\Anaconda3\\lib\\site-packages\\sklearn\\ensemble\\forest.py:246: FutureWarning: The default value of n_estimators will change from 10 in version 0.20 to 100 in 0.22.\n",
      "  \"10 in version 0.20 to 100 in 0.22.\", FutureWarning)\n",
      "C:\\Users\\jatin\\Anaconda3\\lib\\site-packages\\sklearn\\ensemble\\forest.py:246: FutureWarning: The default value of n_estimators will change from 10 in version 0.20 to 100 in 0.22.\n",
      "  \"10 in version 0.20 to 100 in 0.22.\", FutureWarning)\n",
      "C:\\Users\\jatin\\Anaconda3\\lib\\site-packages\\sklearn\\ensemble\\forest.py:246: FutureWarning: The default value of n_estimators will change from 10 in version 0.20 to 100 in 0.22.\n",
      "  \"10 in version 0.20 to 100 in 0.22.\", FutureWarning)\n",
      "C:\\Users\\jatin\\Anaconda3\\lib\\site-packages\\sklearn\\ensemble\\forest.py:246: FutureWarning: The default value of n_estimators will change from 10 in version 0.20 to 100 in 0.22.\n",
      "  \"10 in version 0.20 to 100 in 0.22.\", FutureWarning)\n",
      "C:\\Users\\jatin\\Anaconda3\\lib\\site-packages\\sklearn\\ensemble\\forest.py:246: FutureWarning: The default value of n_estimators will change from 10 in version 0.20 to 100 in 0.22.\n",
      "  \"10 in version 0.20 to 100 in 0.22.\", FutureWarning)\n",
      "C:\\Users\\jatin\\Anaconda3\\lib\\site-packages\\sklearn\\ensemble\\forest.py:246: FutureWarning: The default value of n_estimators will change from 10 in version 0.20 to 100 in 0.22.\n",
      "  \"10 in version 0.20 to 100 in 0.22.\", FutureWarning)\n",
      "C:\\Users\\jatin\\Anaconda3\\lib\\site-packages\\sklearn\\ensemble\\forest.py:246: FutureWarning: The default value of n_estimators will change from 10 in version 0.20 to 100 in 0.22.\n",
      "  \"10 in version 0.20 to 100 in 0.22.\", FutureWarning)\n",
      "C:\\Users\\jatin\\Anaconda3\\lib\\site-packages\\sklearn\\ensemble\\forest.py:246: FutureWarning: The default value of n_estimators will change from 10 in version 0.20 to 100 in 0.22.\n",
      "  \"10 in version 0.20 to 100 in 0.22.\", FutureWarning)\n",
      "C:\\Users\\jatin\\Anaconda3\\lib\\site-packages\\sklearn\\ensemble\\forest.py:246: FutureWarning: The default value of n_estimators will change from 10 in version 0.20 to 100 in 0.22.\n",
      "  \"10 in version 0.20 to 100 in 0.22.\", FutureWarning)\n",
      "C:\\Users\\jatin\\Anaconda3\\lib\\site-packages\\sklearn\\ensemble\\forest.py:246: FutureWarning: The default value of n_estimators will change from 10 in version 0.20 to 100 in 0.22.\n",
      "  \"10 in version 0.20 to 100 in 0.22.\", FutureWarning)\n",
      "C:\\Users\\jatin\\Anaconda3\\lib\\site-packages\\sklearn\\ensemble\\forest.py:246: FutureWarning: The default value of n_estimators will change from 10 in version 0.20 to 100 in 0.22.\n",
      "  \"10 in version 0.20 to 100 in 0.22.\", FutureWarning)\n",
      "C:\\Users\\jatin\\Anaconda3\\lib\\site-packages\\sklearn\\ensemble\\forest.py:246: FutureWarning: The default value of n_estimators will change from 10 in version 0.20 to 100 in 0.22.\n",
      "  \"10 in version 0.20 to 100 in 0.22.\", FutureWarning)\n",
      "C:\\Users\\jatin\\Anaconda3\\lib\\site-packages\\sklearn\\ensemble\\forest.py:246: FutureWarning: The default value of n_estimators will change from 10 in version 0.20 to 100 in 0.22.\n",
      "  \"10 in version 0.20 to 100 in 0.22.\", FutureWarning)\n",
      "C:\\Users\\jatin\\Anaconda3\\lib\\site-packages\\sklearn\\ensemble\\forest.py:246: FutureWarning: The default value of n_estimators will change from 10 in version 0.20 to 100 in 0.22.\n",
      "  \"10 in version 0.20 to 100 in 0.22.\", FutureWarning)\n",
      "C:\\Users\\jatin\\Anaconda3\\lib\\site-packages\\sklearn\\ensemble\\forest.py:246: FutureWarning: The default value of n_estimators will change from 10 in version 0.20 to 100 in 0.22.\n",
      "  \"10 in version 0.20 to 100 in 0.22.\", FutureWarning)\n"
     ]
    },
    {
     "data": {
      "image/png": "[encoded data removed]",
      "text/plain": [
       "<Figure size 1800x720 with 1 Axes>"
      ]
     },
     "metadata": {
      "needs_background": "light"
     },
     "output_type": "display_data"
    },
    {
     "name": "stdout",
     "output_type": "stream",
     "text": [
      "[0.9418181818181818, 0.9436363636363636, 0.9436363636363636, 0.9472727272727273, 0.9527272727272728]\n",
      "columns removed: ['2.1', '2.4', '1.5', '2.18', '4.6']\n"
     ]
    }
   ],
   "source": [
    "acc = []\n",
    "columns_rem = []\n",
    "for col in data_dnazscore.columns:\n",
    "    #print(\"col: \", col)\n",
    "    if(col != \"1.16\"):\n",
    "        data_dnazscore1 = data_dnazscore.drop(col, axis=1)\n",
    "        x_train_dna,x_test_dna,y_train_dna,y_test_dna=train_test_split(data_dnazscore1.iloc[:,:-1],data_dnazscore1.iloc[:,-1], random_state=21)\n",
    "        RF_dna=RandomForestClassifier()\n",
    "        RF_dna.fit(x_train_dna,y_train_dna)\n",
    "        y_rfdna_pred=RF_dna.predict(x_test_dna)\n",
    "        columns_rem.append(col)\n",
    "        acc.append(accuracy_score(y_test_dna,y_rfdna_pred))\n",
    "\n",
    "plt.figure(1, figsize=(25, 10))\n",
    "plt.plot(columns_rem,acc)\n",
    "plt.xlabel(\"column removed\")\n",
    "plt.ylabel(\"accuracy\")\n",
    "plt.show()\n",
    "import operator\n",
    "index, value = max(enumerate(acc), key=operator.itemgetter(1))\n",
    "max_5_acc = sorted(acc)[-5:]\n",
    "coll = []\n",
    "for i in range(0,len(acc)):\n",
    "    if(acc[i] in max_5_acc):\n",
    "        coll.append(columns_rem[i])\n",
    "print(sorted(acc)[-5:])\n",
    "print(\"columns removed:\",coll)"
   ]
  },
  {
   "cell_type": "markdown",
   "metadata": {},
   "source": [
    "### Classification using 2 features -\n",
    " <p>From the above pairplots it can be seen that the datapoints for the 2 classes are overlapping, i.e., there does not exist any 2 features/dimensions that can separate the 2 classes. It is shown below that the accuracy of random forest, which performs best when we consider all features, is ~50% when we train our classifier using only 2 dimensions</p>"
   ]
  },
  {
   "cell_type": "code",
   "execution_count": 40,
   "metadata": {},
   "outputs": [
    {
     "name": "stdout",
     "output_type": "stream",
     "text": [
      "              precision    recall  f1-score   support\n",
      "\n",
      "          -1       0.54      0.26      0.35       260\n",
      "           1       0.55      0.80      0.65       290\n",
      "\n",
      "   micro avg       0.55      0.55      0.55       550\n",
      "   macro avg       0.55      0.53      0.50       550\n",
      "weighted avg       0.55      0.55      0.51       550\n",
      "\n"
     ]
    },
    {
     "name": "stderr",
     "output_type": "stream",
     "text": [
      "C:\\Windows\\Anaconda3\\lib\\site-packages\\sklearn\\ensemble\\forest.py:246: FutureWarning: The default value of n_estimators will change from 10 in version 0.20 to 100 in 0.22.\n",
      "  \"10 in version 0.20 to 100 in 0.22.\", FutureWarning)\n"
     ]
    }
   ],
   "source": [
    "x_train_dna2 = x_train_dna.iloc[:,1:3]\n",
    "RF_dna=RandomForestClassifier()\n",
    "RF_dna.fit(x_train_dna2,y_train_dna)\n",
    "y_rfdna_pred=RF_dna.predict(x_test_dna.iloc[:,1:3])\n",
    "print(classification_report(y_test_dna,y_rfdna_pred))"
   ]
  }
 ],
 "metadata": {
  "kernelspec": {
   "display_name": "Python 3",
   "language": "python",
   "name": "python3"
  },
  "language_info": {
   "codemirror_mode": {
    "name": "ipython",
    "version": 3
   },
   "file_extension": ".py",
   "mimetype": "text/x-python",
   "name": "python",
   "nbconvert_exporter": "python",
   "pygments_lexer": "ipython3",
   "version": "3.7.1"
  }
 },
 "nbformat": 4,
 "nbformat_minor": 2
}
